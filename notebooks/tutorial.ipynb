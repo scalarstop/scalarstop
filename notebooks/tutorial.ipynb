{
 "cells": [
  {
   "cell_type": "markdown",
   "id": "5f81c4d3",
   "metadata": {},
   "source": [
    "# Organize your machine learning experiments with ScalarStop\n",
    "\n",
    "First organize your training, validation, and test sets with subclasses of a `DataBlob` objects.\n",
    "\n",
    "Second, you describe the architecture of your machine learning models with subclasses of `ModelTemplate` objects.\n",
    "\n",
    "Third, you create a `Model` subclass instance that initializes a model with a `ModelTemplate` and trains it on a `DataBlob`'s training and validation sets.\n",
    "\n",
    "Finally, you can save the hyperparameters and training metrics from many `DataBlob`s, `ModelTemplate`s, and `Model`s into a SQLite or PostgreSQL database using the `TrainStore` client."
   ]
  },
  {
   "cell_type": "code",
   "execution_count": 1,
   "id": "25a07758",
   "metadata": {},
   "outputs": [],
   "source": [
    "import os\n",
    "\n",
    "import scalarstop as sp\n",
    "\n",
    "import tensorflow as tf"
   ]
  },
  {
   "cell_type": "markdown",
   "id": "73fc96fa",
   "metadata": {},
   "source": [
    "### Table of Contents\n",
    "\n",
    "#### 1. [**DataBlob**: Keeping your training dataset organized](#DataBlob:-Keeping-your-training-dataset-organized)\n",
    "#### 2. [**ModelTemplate**: Parameterizing your model creation](#ModelTemplate:-Parameterizing-your-model-creation)\n",
    "#### 3. [**Model**: Combine your ModelTemplate with your DataBlob](#Model:Combine-your-ModelTemplate-with-your-DataBlob)\n",
    "#### 4. [**TrainStore**: Save and query your training metrics in a database](#TrainStore:-Save-and-query-your-machine-learning-metrics-in-a-database)\n",
    "\n",
    "---"
   ]
  },
  {
   "cell_type": "markdown",
   "id": "272e92db",
   "metadata": {},
   "source": [
    "### `DataBlob`: Keeping your training dataset organized\n",
    "\n",
    "The first step to training machine learning models with ScalarStop is to encase your dataset into a `DataBlob`.\n",
    "\n",
    "A `DataBlob` is a set of three `tf.data.Dataset` pipelines--representing your training, validation, and test sets.\n",
    "\n",
    "When you create a `DataBlob`, variables that affect the creation of the `tf.data.Dataset` pipeline are are stored in a nested Python dataclass named `Hyperparams`. Only store simple JSON-serializable types in the `Hyperparams` dataclass.\n",
    "\n",
    "Creating a new `DataBlob` with `Hyperparams` looks roughly like this:\n",
    "\n",
    "```python\n",
    "from typing import List, Dict\n",
    "import scalarstop as sp\n",
    "\n",
    "class my_datablob_group_name(sp.DataBlob):\n",
    "    @sp.dataclass\n",
    "    class Hyperparams(sp.HyperparamsType):\n",
    "        a: int\n",
    "        b: str\n",
    "        c: Dict[str, float]\n",
    "        d = List[int]\n",
    "\n",
    "    # ... more setup below ...\n",
    "```\n",
    "\n",
    "Then, we define three methods on our `DataBlob` subclass:\n",
    " - `set_training()`\n",
    " - `set_validation()`\n",
    " - `set_test()`\n",
    "\n",
    "Each one of them has to create a *new* instance of a `tf.data.Dataset` pipeline with data samples and labels zipped together. Typically that looks like:\n",
    "\n",
    "```python\n",
    "# Create a tf.data.Dataset for your training samples.\n",
    "samples = tf.data.Dataset.from_tensor_slices([1,2,3])\n",
    "\n",
    "# And another tf.data.Dataset for your training labels.\n",
    "labels = tf.data.Dataset.from_tensor_slices([0, 1, 0])\n",
    "\n",
    "# And zip them together.\n",
    "tf.data.Dataset.zip((samples, labels))\n",
    "```\n",
    "\n",
    "Do not apply any batching at this stage. We will do that later.\n",
    "\n",
    "Now we'll create a `DataBlob` that contains the Fashion MNIST dataset."
   ]
  },
  {
   "cell_type": "code",
   "execution_count": 2,
   "id": "63f7404a",
   "metadata": {},
   "outputs": [],
   "source": [
    "class fashion_mnist_v1(sp.DataBlob):\n",
    "\n",
    "    @sp.dataclass\n",
    "    class Hyperparams(sp.HyperparamsType):\n",
    "        num_training_samples: int\n",
    "    \n",
    "    def __init__(self, hyperparams):\n",
    "        \"\"\"\n",
    "        You only need to override __init__ if you want to validate\n",
    "        your hyperparameters or add arguments that are not hyperparameters.\n",
    "\n",
    "        One example of a non-hyperparameter argument would be a\n",
    "        database connection URL.\n",
    "        \"\"\"\n",
    "        if hyperparams[\"num_training_samples\"] > 50_000:\n",
    "            raise ValueError(\"num_training_samples should be <= 50_000\")\n",
    "        super().__init__(hyperparams=hyperparams)\n",
    "        (self._train_images, self._train_labels), \\\n",
    "            (self._test_images, self._test_labels) = \\\n",
    "            tf.keras.datasets.fashion_mnist.load_data()\n",
    "\n",
    "    def set_training(self) -> tf.data.Dataset:\n",
    "        \"\"\"The training set.\"\"\"\n",
    "        samples = tf.data.Dataset.from_tensor_slices(\n",
    "            self._train_images[:self.hyperparams.num_training_samples]\n",
    "        )\n",
    "        labels = tf.data.Dataset.from_tensor_slices(\n",
    "            self._train_labels[:self.hyperparams.num_training_samples]\n",
    "        )\n",
    "        return tf.data.Dataset.zip((samples, labels))\n",
    "\n",
    "    def set_validation(self) -> tf.data.Dataset:\n",
    "        \"\"\"\n",
    "        The validation set.\n",
    "\n",
    "        In this example, the validation set does not change with the\n",
    "        hyperparameters. This allows us to compare results with\n",
    "        different training sets to the same validation set.\n",
    "\n",
    "        However, if your hyperparameters specify how to engineer\n",
    "        features, then you might wnat the validation set and\n",
    "        training set to rely on the same hyperparameters.\n",
    "        \"\"\"\n",
    "        samples = tf.data.Dataset.from_tensor_slices(\n",
    "            self._train_images[50_000:]\n",
    "        )\n",
    "        labels = tf.data.Dataset.from_tensor_slices(\n",
    "            self._train_labels[50_000:]\n",
    "        )\n",
    "        return tf.data.Dataset.zip((samples, labels))\n",
    "\n",
    "    def set_test(self) -> tf.data.Dataset:\n",
    "        \"\"\"The test set. Used to evaluate models but not train them.\"\"\"\n",
    "        samples_tf = tf.data.Dataset.from_tensor_slices(\n",
    "            self._test_images\n",
    "        )\n",
    "        labels_tf = tf.data.Dataset.from_tensor_slices(\n",
    "            self._test_labels\n",
    "        )\n",
    "        return tf.data.Dataset.zip((samples, labels))"
   ]
  },
  {
   "cell_type": "markdown",
   "id": "3b4c4547",
   "metadata": {},
   "source": [
    "Here we create a `DataBlob` instance with a dictionary to set our `Hyperparams`.\n",
    "\n",
    "The `DataBlob` name is computed by hashing your `DataBlob` subclass class name and the names and values of your `Hyperparams`."
   ]
  },
  {
   "cell_type": "code",
   "execution_count": 3,
   "id": "ba69ea4d",
   "metadata": {},
   "outputs": [
    {
     "data": {
      "text/plain": [
       "'fashion_mnist_v1-p166sf7xz19hg8n3mj8f93m8'"
      ]
     },
     "execution_count": 3,
     "metadata": {},
     "output_type": "execute_result"
    }
   ],
   "source": [
    "datablob1 = fashion_mnist_v1(hyperparams=dict(num_training_samples=10))\n",
    "datablob1.name"
   ]
  },
  {
   "cell_type": "markdown",
   "id": "0f2646d1",
   "metadata": {},
   "source": [
    "The `DataBlob` group name is by default the `DataBlob` subclass name."
   ]
  },
  {
   "cell_type": "code",
   "execution_count": 4,
   "id": "9f52dd66",
   "metadata": {},
   "outputs": [
    {
     "data": {
      "text/plain": [
       "'fashion_mnist_v1'"
      ]
     },
     "execution_count": 4,
     "metadata": {},
     "output_type": "execute_result"
    }
   ],
   "source": [
    "datablob1.group_name"
   ]
  },
  {
   "cell_type": "code",
   "execution_count": 5,
   "id": "3f374179",
   "metadata": {},
   "outputs": [
    {
     "name": "stdout",
     "output_type": "stream",
     "text": [
      "fashion_mnist_v1.Hyperparams(num_training_samples=10)\n"
     ]
    }
   ],
   "source": [
    "print(datablob1.hyperparams)"
   ]
  },
  {
   "cell_type": "markdown",
   "id": "c2ac71f4",
   "metadata": {},
   "source": [
    "Now we create another `DataBlob` instance with a different value for `Hyperparams`.\n",
    "\n",
    "Note that it has a different automatically-generated `name`, but it'll have the same `group_name`."
   ]
  },
  {
   "cell_type": "code",
   "execution_count": 6,
   "id": "0c2e653a",
   "metadata": {},
   "outputs": [
    {
     "data": {
      "text/plain": [
       "('fashion_mnist_v1-3wzktz1cmz86vs1r7rbmdoza', 'fashion_mnist_v1')"
      ]
     },
     "execution_count": 6,
     "metadata": {},
     "output_type": "execute_result"
    }
   ],
   "source": [
    "datablob2 = fashion_mnist_v1(hyperparams=dict(num_training_samples=50))\n",
    "datablob2.name, datablob2.group_name"
   ]
  },
  {
   "cell_type": "markdown",
   "id": "30c6a680",
   "metadata": {},
   "source": [
    "---\n",
    "### `ModelTemplate`: Parameterizing your model creation\n",
    "\n",
    "The `ModelTemplate` is the same concept as the `DataBlob`, but instead of three `tf.data.Dataset` s, the `ModelTemplate` creates a machine learning framework model object.\n",
    "\n",
    "Here is an example of creating a Keras model. Building and compiling the model is parameterized by values in the `Hyperparams` dataclass."
   ]
  },
  {
   "cell_type": "code",
   "execution_count": 7,
   "id": "caa8cb5e",
   "metadata": {},
   "outputs": [],
   "source": [
    "class small_dense_10_way_classifier_v1(sp.ModelTemplate):\n",
    "\n",
    "    @sp.dataclass\n",
    "    class Hyperparams(sp.HyperparamsType):\n",
    "        hidden_units: int\n",
    "        optimizer: str = \"adam\"\n",
    "\n",
    "    def new_model(self):\n",
    "        model = tf.keras.Sequential(\n",
    "            layers=[\n",
    "                tf.keras.layers.Flatten(input_shape=(28, 28)),\n",
    "                tf.keras.layers.Dense(\n",
    "                    units=self.hyperparams.hidden_units,\n",
    "                    activation=\"relu\",\n",
    "                ),\n",
    "                tf.keras.layers.Dense(units=10)\n",
    "            ],\n",
    "            name=self.name,\n",
    "        )\n",
    "        model.compile(\n",
    "            optimizer=self.hyperparams.optimizer,\n",
    "            loss=tf.keras.losses.SparseCategoricalCrossentropy(from_logits=True),\n",
    "            metrics=[\"accuracy\"],\n",
    "        )\n",
    "        return model"
   ]
  },
  {
   "cell_type": "markdown",
   "id": "4b9f7fb4",
   "metadata": {},
   "source": [
    "Once again, the `ModelTemplate` has a unique name generated by hashing your subclass and the `Hyperparams`."
   ]
  },
  {
   "cell_type": "code",
   "execution_count": 8,
   "id": "52f1a641",
   "metadata": {},
   "outputs": [
    {
     "data": {
      "text/plain": [
       "'small_dense_10_way_classifier_v1-uptyfbjofo7rqv8antxrwhjs'"
      ]
     },
     "execution_count": 8,
     "metadata": {},
     "output_type": "execute_result"
    }
   ],
   "source": [
    "model_template = small_dense_10_way_classifier_v1(hyperparams=dict(hidden_units=3))\n",
    "model_template.name"
   ]
  },
  {
   "cell_type": "markdown",
   "id": "0a5e7b9d",
   "metadata": {},
   "source": [
    "---\n",
    "### `Model`:Combine your `ModelTemplate` with your `DataBlob`\n",
    "\n",
    "`DataBlob`s and `ModelTemplate`s are not very useful until you bring them together with a `Model`.\n",
    "\n",
    "A `Model` is an object created by pairing together a `ModelTemplate` instance and a `DataBlob` instance, for the purpose of training the machine learning model created by the `ModelTemplate` on the `DataBlob`'s training and validation sets.\n",
    "\n",
    "Make sure to batch your `DataBlob` before using it."
   ]
  },
  {
   "cell_type": "code",
   "execution_count": 9,
   "id": "a60e15fa",
   "metadata": {},
   "outputs": [],
   "source": [
    "datablob = datablob2.batch(2)\n",
    "\n",
    "model = sp.KerasModel.from_model_template(\n",
    "    datablob=datablob,\n",
    "    model_template=model_template,\n",
    ")"
   ]
  },
  {
   "cell_type": "markdown",
   "id": "cd0eeac7",
   "metadata": {},
   "source": [
    "Once again, the `Model` has a unique name. But this time it is just a concatenation of the `DataBlob` and `ModelTemplate` names."
   ]
  },
  {
   "cell_type": "code",
   "execution_count": 10,
   "id": "709423c6",
   "metadata": {},
   "outputs": [
    {
     "data": {
      "text/plain": [
       "'mt_small_dense_10_way_classifier_v1-uptyfbjofo7rqv8antxrwhjs__d_fashion_mnist_v1-3wzktz1cmz86vs1r7rbmdoza'"
      ]
     },
     "execution_count": 10,
     "metadata": {},
     "output_type": "execute_result"
    }
   ],
   "source": [
    "model.name"
   ]
  },
  {
   "cell_type": "code",
   "execution_count": 11,
   "id": "1944ca0b",
   "metadata": {},
   "outputs": [
    {
     "name": "stdout",
     "output_type": "stream",
     "text": [
      "Epoch 1/2\n",
      "25/25 [==============================] - 2s 98ms/step - loss: 9.4557 - accuracy: 0.1000 - val_loss: 2.3924 - val_accuracy: 0.1043\n",
      "Epoch 2/2\n",
      "25/25 [==============================] - 2s 89ms/step - loss: 2.3005 - accuracy: 0.1600 - val_loss: 2.3722 - val_accuracy: 0.1039\n"
     ]
    },
    {
     "data": {
      "text/plain": [
       "{'loss': [9.455658912658691, 2.300518035888672],\n",
       " 'accuracy': [0.10000000149011612, 0.1599999964237213],\n",
       " 'val_loss': [2.392390012741089, 2.37215256690979],\n",
       " 'val_accuracy': [0.10429999977350235, 0.1039000004529953]}"
      ]
     },
     "execution_count": 11,
     "metadata": {},
     "output_type": "execute_result"
    }
   ],
   "source": [
    "model.fit(final_epoch=2, verbose=1)"
   ]
  },
  {
   "cell_type": "markdown",
   "id": "403f2137",
   "metadata": {},
   "source": [
    "In ScalarStop, training a machine learning model is an idempotent operation. Instead of saying, \"Train for $n$ **more** epochs,\" we say, \"Train until the model has been trained for $n$ epochs **total**.\"\n",
    "\n",
    "If we call `model.fit()` again with `final_epoch()` still at 2, we get the same metrics but no training happened."
   ]
  },
  {
   "cell_type": "code",
   "execution_count": 12,
   "id": "bf6c2cf7",
   "metadata": {},
   "outputs": [
    {
     "data": {
      "text/plain": [
       "{'loss': [9.455658912658691, 2.300518035888672],\n",
       " 'accuracy': [0.10000000149011612, 0.1599999964237213],\n",
       " 'val_loss': [2.392390012741089, 2.37215256690979],\n",
       " 'val_accuracy': [0.10429999977350235, 0.1039000004529953]}"
      ]
     },
     "execution_count": 12,
     "metadata": {},
     "output_type": "execute_result"
    }
   ],
   "source": [
    "model.fit(final_epoch=2, verbose=1)"
   ]
  },
  {
   "cell_type": "markdown",
   "id": "2eed1a70",
   "metadata": {},
   "source": [
    "Training ScalarStop `Model`s are idempotent because they keep track of how many epochs they have been trained for and the generated training metrics (e.g. loss, accuracy, etc.). This information is saved to the filesystem if you call `model.save()` and is loaded back from disk if you create a new `Model` object with `Model.from_filesystem_or_model_template()`."
   ]
  },
  {
   "cell_type": "code",
   "execution_count": 13,
   "id": "bf63ccc6",
   "metadata": {},
   "outputs": [
    {
     "name": "stdout",
     "output_type": "stream",
     "text": [
      "WARNING:tensorflow:From /Users/james/Library/Caches/pypoetry/virtualenvs/scalarstop-fcxOA61--py3.8/lib/python3.8/site-packages/tensorflow/python/ops/resource_variable_ops.py:1813: calling BaseResourceVariable.__init__ (from tensorflow.python.ops.resource_variable_ops) with constraint is deprecated and will be removed in a future version.\n",
      "Instructions for updating:\n",
      "If using Keras pass *_constraint arguments to layers.\n",
      "INFO:tensorflow:Assets written to: models_directory/mt_small_dense_10_way_classifier_v1-uptyfbjofo7rqv8antxrwhjs__d_fashion_mnist_v1-3wzktz1cmz86vs1r7rbmdoza/assets\n"
     ]
    },
    {
     "data": {
      "text/plain": [
       "['mt_small_dense_10_way_classifier_v1-uptyfbjofo7rqv8antxrwhjs__d_fashion_mnist_v1-3wzktz1cmz86vs1r7rbmdoza']"
      ]
     },
     "execution_count": 13,
     "metadata": {},
     "output_type": "execute_result"
    }
   ],
   "source": [
    "os.makedirs(\"models_directory\", exist_ok=True)\n",
    "\n",
    "model.save(\"models_directory\")\n",
    "\n",
    "os.listdir(\"models_directory\")"
   ]
  },
  {
   "cell_type": "code",
   "execution_count": 14,
   "id": "0c870fdd",
   "metadata": {},
   "outputs": [
    {
     "name": "stdout",
     "output_type": "stream",
     "text": [
      "mt_small_dense_10_way_classifier_v1-uptyfbjofo7rqv8antxrwhjs__d_fashion_mnist_v1-3wzktz1cmz86vs1r7rbmdoza\n"
     ]
    },
    {
     "data": {
      "text/plain": [
       "{'accuracy': [0.10000000149011612, 0.1599999964237213],\n",
       " 'loss': [9.455658912658691, 2.300518035888672],\n",
       " 'val_accuracy': [0.10429999977350235, 0.1039000004529953],\n",
       " 'val_loss': [2.392390012741089, 2.37215256690979]}"
      ]
     },
     "execution_count": 14,
     "metadata": {},
     "output_type": "execute_result"
    }
   ],
   "source": [
    "model2 = sp.KerasModel.from_filesystem(\n",
    "    datablob=datablob,\n",
    "    model_template=model_template,\n",
    "    models_directory=\"models_directory\",\n",
    ")\n",
    "print(model2.name)\n",
    "model2.history"
   ]
  },
  {
   "cell_type": "markdown",
   "id": "9def4702",
   "metadata": {},
   "source": [
    "If you provide `models_directory` as an argument to `fit()`, ScalarStop will save the model to the filesystem after every epoch."
   ]
  },
  {
   "cell_type": "code",
   "execution_count": 15,
   "id": "912305c2",
   "metadata": {},
   "outputs": [
    {
     "name": "stdout",
     "output_type": "stream",
     "text": [
      "Epoch 3/5\n",
      " 1/25 [>.............................] - ETA: 0s - loss: 2.2890 - accuracy: 0.5000INFO:tensorflow:Assets written to: models_directory/mt_small_dense_10_way_classifier_v1-uptyfbjofo7rqv8antxrwhjs__d_fashion_mnist_v1-3wzktz1cmz86vs1r7rbmdoza/assets\n",
      "25/25 [==============================] - 3s 107ms/step - loss: 2.2995 - accuracy: 0.1600 - val_loss: 2.3721 - val_accuracy: 0.1039\n",
      "Epoch 4/5\n",
      " 1/25 [>.............................] - ETA: 0s - loss: 2.2802 - accuracy: 0.5000INFO:tensorflow:Assets written to: models_directory/mt_small_dense_10_way_classifier_v1-uptyfbjofo7rqv8antxrwhjs__d_fashion_mnist_v1-3wzktz1cmz86vs1r7rbmdoza/assets\n",
      "25/25 [==============================] - 3s 101ms/step - loss: 2.2973 - accuracy: 0.1600 - val_loss: 2.3722 - val_accuracy: 0.1039\n",
      "Epoch 5/5\n",
      " 1/25 [>.............................] - ETA: 0s - loss: 2.2767 - accuracy: 0.5000INFO:tensorflow:Assets written to: models_directory/mt_small_dense_10_way_classifier_v1-uptyfbjofo7rqv8antxrwhjs__d_fashion_mnist_v1-3wzktz1cmz86vs1r7rbmdoza/assets\n",
      "25/25 [==============================] - 3s 100ms/step - loss: 2.2960 - accuracy: 0.1600 - val_loss: 2.3722 - val_accuracy: 0.1039\n"
     ]
    }
   ],
   "source": [
    "_ = model2.fit(final_epoch=5, verbose=1, models_directory=\"models_directory\")"
   ]
  },
  {
   "cell_type": "markdown",
   "id": "5b7c2c2e",
   "metadata": {},
   "source": [
    "Once again, ScalarStop saves the model's trainining history alongside the model's weights, but this is not very convenient if you want to do large-scale analysis on the training metrics of many models at once.\n",
    "\n",
    "A better way of storing the training metrics is to use the `TrainStore`."
   ]
  },
  {
   "cell_type": "markdown",
   "id": "33f358cf",
   "metadata": {},
   "source": [
    "---\n",
    "### `TrainStore`: Save and query your machine learning metrics in a database"
   ]
  },
  {
   "cell_type": "code",
   "execution_count": 16,
   "id": "97ab233b",
   "metadata": {},
   "outputs": [
    {
     "data": {
      "text/plain": [
       "<sp.TrainStore sqlite:///train_store.sqlite3>"
      ]
     },
     "execution_count": 16,
     "metadata": {},
     "output_type": "execute_result"
    }
   ],
   "source": [
    "train_store = sp.TrainStore.from_filesystem(filename=\"train_store.sqlite3\")\n",
    "train_store"
   ]
  },
  {
   "cell_type": "markdown",
   "id": "36c0deda",
   "metadata": {},
   "source": [
    "The `TrainStore` is also available as a Python context manager.\n",
    "\n",
    "```python\n",
    "with sp.TrainStore.from_filesystem(filename=\"train_store.sqlite3\") as train_store:\n",
    "    # use the TrainStore here\n",
    "\n",
    "# here the TrainStore database connection is automatically closed for you.\n",
    "```\n",
    "\n",
    "We don't use it that way in this example because we want to use the TrainStore across multiple Jupyter notebook cells."
   ]
  },
  {
   "cell_type": "markdown",
   "id": "f0a6894e",
   "metadata": {},
   "source": [
    "The `TrainStore` will automatically save your `DataBlob` and `ModelTemplate` name, group name, and hyperparameters to the database. And when you train a `Model`, the `TrainStore` will persist the model name and the epoch training metrics.\n",
    "\n",
    "All of this happens automatically if you pass the `TrainStore` instance to `Model.fit()`."
   ]
  },
  {
   "cell_type": "code",
   "execution_count": 17,
   "id": "fe73a61f",
   "metadata": {},
   "outputs": [
    {
     "name": "stdout",
     "output_type": "stream",
     "text": [
      "Epoch 3/5\n",
      "25/25 [==============================] - 2s 90ms/step - loss: 2.2991 - accuracy: 0.1600 - val_loss: 2.3707 - val_accuracy: 0.1039\n",
      "Epoch 4/5\n",
      "25/25 [==============================] - 2s 89ms/step - loss: 2.2978 - accuracy: 0.1600 - val_loss: 2.3705 - val_accuracy: 0.1039\n",
      "Epoch 5/5\n",
      "25/25 [==============================] - 2s 87ms/step - loss: 2.2965 - accuracy: 0.1600 - val_loss: 2.3705 - val_accuracy: 0.1039\n"
     ]
    }
   ],
   "source": [
    "_ = model.fit(final_epoch=5, train_store=train_store)"
   ]
  },
  {
   "cell_type": "markdown",
   "id": "a8a285b8",
   "metadata": {},
   "source": [
    "Once you have some information in the `TrainStore`, you can query it for information and receive results as a Pandas `DataFrame`."
   ]
  },
  {
   "cell_type": "code",
   "execution_count": 18,
   "id": "99694036",
   "metadata": {},
   "outputs": [
    {
     "data": {
      "text/html": [
       "<div>\n",
       "<style scoped>\n",
       "    .dataframe tbody tr th:only-of-type {\n",
       "        vertical-align: middle;\n",
       "    }\n",
       "\n",
       "    .dataframe tbody tr th {\n",
       "        vertical-align: top;\n",
       "    }\n",
       "\n",
       "    .dataframe thead th {\n",
       "        text-align: right;\n",
       "    }\n",
       "</style>\n",
       "<table border=\"1\" class=\"dataframe\">\n",
       "  <thead>\n",
       "    <tr style=\"text-align: right;\">\n",
       "      <th></th>\n",
       "      <th>name</th>\n",
       "      <th>group_name</th>\n",
       "      <th>hyperparams</th>\n",
       "      <th>last_modified</th>\n",
       "    </tr>\n",
       "  </thead>\n",
       "  <tbody>\n",
       "    <tr>\n",
       "      <th>0</th>\n",
       "      <td>fashion_mnist_v1-3wzktz1cmz86vs1r7rbmdoza</td>\n",
       "      <td>fashion_mnist_v1</td>\n",
       "      <td>{'num_training_samples': 50}</td>\n",
       "      <td>2021-04-08 04:13:16.040227</td>\n",
       "    </tr>\n",
       "  </tbody>\n",
       "</table>\n",
       "</div>"
      ],
      "text/plain": [
       "                                        name        group_name  \\\n",
       "0  fashion_mnist_v1-3wzktz1cmz86vs1r7rbmdoza  fashion_mnist_v1   \n",
       "\n",
       "                    hyperparams              last_modified  \n",
       "0  {'num_training_samples': 50} 2021-04-08 04:13:16.040227  "
      ]
     },
     "execution_count": 18,
     "metadata": {},
     "output_type": "execute_result"
    }
   ],
   "source": [
    "train_store.list_datablobs()"
   ]
  },
  {
   "cell_type": "code",
   "execution_count": 19,
   "id": "962a2102",
   "metadata": {},
   "outputs": [
    {
     "data": {
      "text/html": [
       "<div>\n",
       "<style scoped>\n",
       "    .dataframe tbody tr th:only-of-type {\n",
       "        vertical-align: middle;\n",
       "    }\n",
       "\n",
       "    .dataframe tbody tr th {\n",
       "        vertical-align: top;\n",
       "    }\n",
       "\n",
       "    .dataframe thead th {\n",
       "        text-align: right;\n",
       "    }\n",
       "</style>\n",
       "<table border=\"1\" class=\"dataframe\">\n",
       "  <thead>\n",
       "    <tr style=\"text-align: right;\">\n",
       "      <th></th>\n",
       "      <th>name</th>\n",
       "      <th>group_name</th>\n",
       "      <th>hyperparams</th>\n",
       "      <th>last_modified</th>\n",
       "    </tr>\n",
       "  </thead>\n",
       "  <tbody>\n",
       "    <tr>\n",
       "      <th>0</th>\n",
       "      <td>small_dense_10_way_classifier_v1-uptyfbjofo7rq...</td>\n",
       "      <td>small_dense_10_way_classifier_v1</td>\n",
       "      <td>{'hidden_units': 3, 'optimizer': 'adam'}</td>\n",
       "      <td>2021-04-08 04:13:16.041786</td>\n",
       "    </tr>\n",
       "  </tbody>\n",
       "</table>\n",
       "</div>"
      ],
      "text/plain": [
       "                                                name  \\\n",
       "0  small_dense_10_way_classifier_v1-uptyfbjofo7rq...   \n",
       "\n",
       "                         group_name                               hyperparams  \\\n",
       "0  small_dense_10_way_classifier_v1  {'hidden_units': 3, 'optimizer': 'adam'}   \n",
       "\n",
       "               last_modified  \n",
       "0 2021-04-08 04:13:16.041786  "
      ]
     },
     "execution_count": 19,
     "metadata": {},
     "output_type": "execute_result"
    }
   ],
   "source": [
    "train_store.list_model_templates()"
   ]
  },
  {
   "cell_type": "code",
   "execution_count": 20,
   "id": "11a3a94c",
   "metadata": {},
   "outputs": [
    {
     "data": {
      "text/html": [
       "<div>\n",
       "<style scoped>\n",
       "    .dataframe tbody tr th:only-of-type {\n",
       "        vertical-align: middle;\n",
       "    }\n",
       "\n",
       "    .dataframe tbody tr th {\n",
       "        vertical-align: top;\n",
       "    }\n",
       "\n",
       "    .dataframe thead th {\n",
       "        text-align: right;\n",
       "    }\n",
       "</style>\n",
       "<table border=\"1\" class=\"dataframe\">\n",
       "  <thead>\n",
       "    <tr style=\"text-align: right;\">\n",
       "      <th></th>\n",
       "      <th>model_name</th>\n",
       "      <th>model_class_name</th>\n",
       "      <th>model_last_modified</th>\n",
       "      <th>datablob_name</th>\n",
       "      <th>datablob_group_name</th>\n",
       "      <th>model_template_name</th>\n",
       "      <th>model_template_group_name</th>\n",
       "      <th>dbh__num_training_samples</th>\n",
       "      <th>mth__hidden_units</th>\n",
       "      <th>mth__optimizer</th>\n",
       "    </tr>\n",
       "  </thead>\n",
       "  <tbody>\n",
       "    <tr>\n",
       "      <th>0</th>\n",
       "      <td>mt_small_dense_10_way_classifier_v1-uptyfbjofo...</td>\n",
       "      <td>KerasModel</td>\n",
       "      <td>2021-04-08 04:13:16.042950</td>\n",
       "      <td>fashion_mnist_v1-3wzktz1cmz86vs1r7rbmdoza</td>\n",
       "      <td>fashion_mnist_v1</td>\n",
       "      <td>small_dense_10_way_classifier_v1-uptyfbjofo7rq...</td>\n",
       "      <td>small_dense_10_way_classifier_v1</td>\n",
       "      <td>50</td>\n",
       "      <td>3</td>\n",
       "      <td>adam</td>\n",
       "    </tr>\n",
       "  </tbody>\n",
       "</table>\n",
       "</div>"
      ],
      "text/plain": [
       "                                          model_name model_class_name  \\\n",
       "0  mt_small_dense_10_way_classifier_v1-uptyfbjofo...       KerasModel   \n",
       "\n",
       "         model_last_modified                              datablob_name  \\\n",
       "0 2021-04-08 04:13:16.042950  fashion_mnist_v1-3wzktz1cmz86vs1r7rbmdoza   \n",
       "\n",
       "  datablob_group_name                                model_template_name  \\\n",
       "0    fashion_mnist_v1  small_dense_10_way_classifier_v1-uptyfbjofo7rq...   \n",
       "\n",
       "          model_template_group_name  dbh__num_training_samples  \\\n",
       "0  small_dense_10_way_classifier_v1                         50   \n",
       "\n",
       "   mth__hidden_units mth__optimizer  \n",
       "0                  3           adam  "
      ]
     },
     "execution_count": 20,
     "metadata": {},
     "output_type": "execute_result"
    }
   ],
   "source": [
    "train_store.list_models()"
   ]
  },
  {
   "cell_type": "code",
   "execution_count": 21,
   "id": "99d69c49",
   "metadata": {},
   "outputs": [
    {
     "data": {
      "text/html": [
       "<div>\n",
       "<style scoped>\n",
       "    .dataframe tbody tr th:only-of-type {\n",
       "        vertical-align: middle;\n",
       "    }\n",
       "\n",
       "    .dataframe tbody tr th {\n",
       "        vertical-align: top;\n",
       "    }\n",
       "\n",
       "    .dataframe thead th {\n",
       "        text-align: right;\n",
       "    }\n",
       "</style>\n",
       "<table border=\"1\" class=\"dataframe\">\n",
       "  <thead>\n",
       "    <tr style=\"text-align: right;\">\n",
       "      <th></th>\n",
       "      <th>epoch_num</th>\n",
       "      <th>model_name</th>\n",
       "      <th>last_modified</th>\n",
       "      <th>metric__loss</th>\n",
       "      <th>metric__accuracy</th>\n",
       "      <th>metric__val_loss</th>\n",
       "      <th>metric__val_accuracy</th>\n",
       "    </tr>\n",
       "  </thead>\n",
       "  <tbody>\n",
       "    <tr>\n",
       "      <th>0</th>\n",
       "      <td>3</td>\n",
       "      <td>mt_small_dense_10_way_classifier_v1-uptyfbjofo...</td>\n",
       "      <td>2021-04-08 04:13:18.306168</td>\n",
       "      <td>2.299144</td>\n",
       "      <td>0.16</td>\n",
       "      <td>2.370655</td>\n",
       "      <td>0.1039</td>\n",
       "    </tr>\n",
       "    <tr>\n",
       "      <th>1</th>\n",
       "      <td>4</td>\n",
       "      <td>mt_small_dense_10_way_classifier_v1-uptyfbjofo...</td>\n",
       "      <td>2021-04-08 04:13:20.526185</td>\n",
       "      <td>2.297823</td>\n",
       "      <td>0.16</td>\n",
       "      <td>2.370520</td>\n",
       "      <td>0.1039</td>\n",
       "    </tr>\n",
       "    <tr>\n",
       "      <th>2</th>\n",
       "      <td>5</td>\n",
       "      <td>mt_small_dense_10_way_classifier_v1-uptyfbjofo...</td>\n",
       "      <td>2021-04-08 04:13:22.697464</td>\n",
       "      <td>2.296533</td>\n",
       "      <td>0.16</td>\n",
       "      <td>2.370511</td>\n",
       "      <td>0.1039</td>\n",
       "    </tr>\n",
       "  </tbody>\n",
       "</table>\n",
       "</div>"
      ],
      "text/plain": [
       "   epoch_num                                         model_name  \\\n",
       "0          3  mt_small_dense_10_way_classifier_v1-uptyfbjofo...   \n",
       "1          4  mt_small_dense_10_way_classifier_v1-uptyfbjofo...   \n",
       "2          5  mt_small_dense_10_way_classifier_v1-uptyfbjofo...   \n",
       "\n",
       "               last_modified  metric__loss  metric__accuracy  \\\n",
       "0 2021-04-08 04:13:18.306168      2.299144              0.16   \n",
       "1 2021-04-08 04:13:20.526185      2.297823              0.16   \n",
       "2 2021-04-08 04:13:22.697464      2.296533              0.16   \n",
       "\n",
       "   metric__val_loss  metric__val_accuracy  \n",
       "0          2.370655                0.1039  \n",
       "1          2.370520                0.1039  \n",
       "2          2.370511                0.1039  "
      ]
     },
     "execution_count": 21,
     "metadata": {},
     "output_type": "execute_result"
    }
   ],
   "source": [
    "train_store.list_model_epochs(model_name=model.name)"
   ]
  },
  {
   "cell_type": "code",
   "execution_count": 22,
   "id": "f82edcf5",
   "metadata": {},
   "outputs": [],
   "source": [
    "model_template = small_dense_10_way_classifier_v1(hyperparams=dict(hidden_units=5))"
   ]
  },
  {
   "cell_type": "code",
   "execution_count": 23,
   "id": "fea5f567",
   "metadata": {},
   "outputs": [],
   "source": [
    "model = sp.KerasModel.from_model_template(datablob=datablob, model_template=model_template)"
   ]
  },
  {
   "cell_type": "code",
   "execution_count": 24,
   "id": "5b007d96",
   "metadata": {},
   "outputs": [
    {
     "name": "stdout",
     "output_type": "stream",
     "text": [
      "Epoch 1/10\n",
      "25/25 [==============================] - 2s 90ms/step - loss: 21.2974 - accuracy: 0.1000 - val_loss: 2.5189 - val_accuracy: 0.1036\n",
      "Epoch 2/10\n",
      "25/25 [==============================] - 2s 87ms/step - loss: 2.3525 - accuracy: 0.1600 - val_loss: 2.3789 - val_accuracy: 0.1035\n",
      "Epoch 3/10\n",
      "25/25 [==============================] - 2s 91ms/step - loss: 2.2993 - accuracy: 0.1600 - val_loss: 2.3727 - val_accuracy: 0.1035\n",
      "Epoch 4/10\n",
      "25/25 [==============================] - 2s 93ms/step - loss: 2.2981 - accuracy: 0.1600 - val_loss: 2.3722 - val_accuracy: 0.1035\n",
      "Epoch 5/10\n",
      "25/25 [==============================] - 2s 93ms/step - loss: 2.2969 - accuracy: 0.1600 - val_loss: 2.3722 - val_accuracy: 0.1035\n",
      "Epoch 6/10\n",
      "25/25 [==============================] - 2s 93ms/step - loss: 2.2957 - accuracy: 0.1600 - val_loss: 2.3722 - val_accuracy: 0.1035\n",
      "Epoch 7/10\n",
      "25/25 [==============================] - 2s 89ms/step - loss: 2.2945 - accuracy: 0.1600 - val_loss: 2.3722 - val_accuracy: 0.1035\n",
      "Epoch 8/10\n",
      "25/25 [==============================] - 2s 89ms/step - loss: 2.2934 - accuracy: 0.1600 - val_loss: 2.3723 - val_accuracy: 0.1035\n",
      "Epoch 9/10\n",
      "25/25 [==============================] - 2s 90ms/step - loss: 2.2922 - accuracy: 0.1600 - val_loss: 2.3723 - val_accuracy: 0.1035\n",
      "Epoch 10/10\n",
      "25/25 [==============================] - 2s 89ms/step - loss: 2.2911 - accuracy: 0.1600 - val_loss: 2.3724 - val_accuracy: 0.1035\n"
     ]
    }
   ],
   "source": [
    "_ = model.fit(final_epoch=10, train_store=train_store)"
   ]
  },
  {
   "cell_type": "code",
   "execution_count": 25,
   "id": "ace44f43",
   "metadata": {},
   "outputs": [
    {
     "data": {
      "text/html": [
       "<div>\n",
       "<style scoped>\n",
       "    .dataframe tbody tr th:only-of-type {\n",
       "        vertical-align: middle;\n",
       "    }\n",
       "\n",
       "    .dataframe tbody tr th {\n",
       "        vertical-align: top;\n",
       "    }\n",
       "\n",
       "    .dataframe thead th {\n",
       "        text-align: right;\n",
       "    }\n",
       "</style>\n",
       "<table border=\"1\" class=\"dataframe\">\n",
       "  <thead>\n",
       "    <tr style=\"text-align: right;\">\n",
       "      <th></th>\n",
       "      <th>epoch_num</th>\n",
       "      <th>model_name</th>\n",
       "      <th>last_modified</th>\n",
       "      <th>metric__loss</th>\n",
       "      <th>metric__accuracy</th>\n",
       "      <th>metric__val_loss</th>\n",
       "      <th>metric__val_accuracy</th>\n",
       "    </tr>\n",
       "  </thead>\n",
       "  <tbody>\n",
       "    <tr>\n",
       "      <th>0</th>\n",
       "      <td>1</td>\n",
       "      <td>mt_small_dense_10_way_classifier_v1-axos7t2rck...</td>\n",
       "      <td>2021-04-08 04:13:25.232950</td>\n",
       "      <td>21.297380</td>\n",
       "      <td>0.10</td>\n",
       "      <td>2.518939</td>\n",
       "      <td>0.1036</td>\n",
       "    </tr>\n",
       "    <tr>\n",
       "      <th>1</th>\n",
       "      <td>2</td>\n",
       "      <td>mt_small_dense_10_way_classifier_v1-axos7t2rck...</td>\n",
       "      <td>2021-04-08 04:13:27.409848</td>\n",
       "      <td>2.352500</td>\n",
       "      <td>0.16</td>\n",
       "      <td>2.378875</td>\n",
       "      <td>0.1035</td>\n",
       "    </tr>\n",
       "    <tr>\n",
       "      <th>2</th>\n",
       "      <td>3</td>\n",
       "      <td>mt_small_dense_10_way_classifier_v1-axos7t2rck...</td>\n",
       "      <td>2021-04-08 04:13:29.692196</td>\n",
       "      <td>2.299279</td>\n",
       "      <td>0.16</td>\n",
       "      <td>2.372684</td>\n",
       "      <td>0.1035</td>\n",
       "    </tr>\n",
       "    <tr>\n",
       "      <th>3</th>\n",
       "      <td>4</td>\n",
       "      <td>mt_small_dense_10_way_classifier_v1-axos7t2rck...</td>\n",
       "      <td>2021-04-08 04:13:32.020865</td>\n",
       "      <td>2.298073</td>\n",
       "      <td>0.16</td>\n",
       "      <td>2.372222</td>\n",
       "      <td>0.1035</td>\n",
       "    </tr>\n",
       "    <tr>\n",
       "      <th>4</th>\n",
       "      <td>5</td>\n",
       "      <td>mt_small_dense_10_way_classifier_v1-axos7t2rck...</td>\n",
       "      <td>2021-04-08 04:13:34.339693</td>\n",
       "      <td>2.296874</td>\n",
       "      <td>0.16</td>\n",
       "      <td>2.372190</td>\n",
       "      <td>0.1035</td>\n",
       "    </tr>\n",
       "    <tr>\n",
       "      <th>5</th>\n",
       "      <td>6</td>\n",
       "      <td>mt_small_dense_10_way_classifier_v1-axos7t2rck...</td>\n",
       "      <td>2021-04-08 04:13:36.657438</td>\n",
       "      <td>2.295686</td>\n",
       "      <td>0.16</td>\n",
       "      <td>2.372182</td>\n",
       "      <td>0.1035</td>\n",
       "    </tr>\n",
       "    <tr>\n",
       "      <th>6</th>\n",
       "      <td>7</td>\n",
       "      <td>mt_small_dense_10_way_classifier_v1-axos7t2rck...</td>\n",
       "      <td>2021-04-08 04:13:38.895995</td>\n",
       "      <td>2.294514</td>\n",
       "      <td>0.16</td>\n",
       "      <td>2.372215</td>\n",
       "      <td>0.1035</td>\n",
       "    </tr>\n",
       "    <tr>\n",
       "      <th>7</th>\n",
       "      <td>8</td>\n",
       "      <td>mt_small_dense_10_way_classifier_v1-axos7t2rck...</td>\n",
       "      <td>2021-04-08 04:13:41.118748</td>\n",
       "      <td>2.293363</td>\n",
       "      <td>0.16</td>\n",
       "      <td>2.372278</td>\n",
       "      <td>0.1035</td>\n",
       "    </tr>\n",
       "    <tr>\n",
       "      <th>8</th>\n",
       "      <td>9</td>\n",
       "      <td>mt_small_dense_10_way_classifier_v1-axos7t2rck...</td>\n",
       "      <td>2021-04-08 04:13:43.369257</td>\n",
       "      <td>2.292232</td>\n",
       "      <td>0.16</td>\n",
       "      <td>2.372333</td>\n",
       "      <td>0.1035</td>\n",
       "    </tr>\n",
       "    <tr>\n",
       "      <th>9</th>\n",
       "      <td>10</td>\n",
       "      <td>mt_small_dense_10_way_classifier_v1-axos7t2rck...</td>\n",
       "      <td>2021-04-08 04:13:45.599492</td>\n",
       "      <td>2.291124</td>\n",
       "      <td>0.16</td>\n",
       "      <td>2.372398</td>\n",
       "      <td>0.1035</td>\n",
       "    </tr>\n",
       "  </tbody>\n",
       "</table>\n",
       "</div>"
      ],
      "text/plain": [
       "   epoch_num                                         model_name  \\\n",
       "0          1  mt_small_dense_10_way_classifier_v1-axos7t2rck...   \n",
       "1          2  mt_small_dense_10_way_classifier_v1-axos7t2rck...   \n",
       "2          3  mt_small_dense_10_way_classifier_v1-axos7t2rck...   \n",
       "3          4  mt_small_dense_10_way_classifier_v1-axos7t2rck...   \n",
       "4          5  mt_small_dense_10_way_classifier_v1-axos7t2rck...   \n",
       "5          6  mt_small_dense_10_way_classifier_v1-axos7t2rck...   \n",
       "6          7  mt_small_dense_10_way_classifier_v1-axos7t2rck...   \n",
       "7          8  mt_small_dense_10_way_classifier_v1-axos7t2rck...   \n",
       "8          9  mt_small_dense_10_way_classifier_v1-axos7t2rck...   \n",
       "9         10  mt_small_dense_10_way_classifier_v1-axos7t2rck...   \n",
       "\n",
       "               last_modified  metric__loss  metric__accuracy  \\\n",
       "0 2021-04-08 04:13:25.232950     21.297380              0.10   \n",
       "1 2021-04-08 04:13:27.409848      2.352500              0.16   \n",
       "2 2021-04-08 04:13:29.692196      2.299279              0.16   \n",
       "3 2021-04-08 04:13:32.020865      2.298073              0.16   \n",
       "4 2021-04-08 04:13:34.339693      2.296874              0.16   \n",
       "5 2021-04-08 04:13:36.657438      2.295686              0.16   \n",
       "6 2021-04-08 04:13:38.895995      2.294514              0.16   \n",
       "7 2021-04-08 04:13:41.118748      2.293363              0.16   \n",
       "8 2021-04-08 04:13:43.369257      2.292232              0.16   \n",
       "9 2021-04-08 04:13:45.599492      2.291124              0.16   \n",
       "\n",
       "   metric__val_loss  metric__val_accuracy  \n",
       "0          2.518939                0.1036  \n",
       "1          2.378875                0.1035  \n",
       "2          2.372684                0.1035  \n",
       "3          2.372222                0.1035  \n",
       "4          2.372190                0.1035  \n",
       "5          2.372182                0.1035  \n",
       "6          2.372215                0.1035  \n",
       "7          2.372278                0.1035  \n",
       "8          2.372333                0.1035  \n",
       "9          2.372398                0.1035  "
      ]
     },
     "execution_count": 25,
     "metadata": {},
     "output_type": "execute_result"
    }
   ],
   "source": [
    "train_store.list_model_epochs(model_name=model.name)"
   ]
  }
 ],
 "metadata": {
  "kernelspec": {
   "display_name": "Python 3",
   "language": "python",
   "name": "python3"
  },
  "language_info": {
   "codemirror_mode": {
    "name": "ipython",
    "version": 3
   },
   "file_extension": ".py",
   "mimetype": "text/x-python",
   "name": "python",
   "nbconvert_exporter": "python",
   "pygments_lexer": "ipython3",
   "version": "3.8.6"
  }
 },
 "nbformat": 4,
 "nbformat_minor": 5
}
