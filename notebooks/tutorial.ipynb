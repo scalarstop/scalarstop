{
 "cells": [
  {
   "cell_type": "markdown",
   "id": "addd01de",
   "metadata": {},
   "source": [
    "# Organize your machine learning experiments with ScalarStop\n",
    "\n",
    "First organize your training, validation, and test sets with subclasses of a `DataBlob` objects.\n",
    "\n",
    "Second, you describe the architecture of your machine learning models with subclasses of `ModelTemplate` objects.\n",
    "\n",
    "Third, you create a `Model` subclass instance that initializes a model with a `ModelTemplate` and trains it on a `DataBlob`'s training and validation sets.\n",
    "\n",
    "Finally, you can save the hyperparameters and training metrics from many `DataBlob`s, `ModelTemplate`s, and `Model`s into a SQLite or PostgreSQL database using the `TrainStore` client."
   ]
  },
  {
   "cell_type": "code",
   "execution_count": 45,
   "id": "2beb6d22",
   "metadata": {},
   "outputs": [],
   "source": [
    "import os\n",
    "\n",
    "import scalarstop as sp\n",
    "\n",
    "import tensorflow as tf"
   ]
  },
  {
   "cell_type": "markdown",
   "id": "bf96f7ae",
   "metadata": {},
   "source": [
    "### Table of Contents\n",
    "\n",
    "#### 1. [**DataBlob**: Keeping your training dataset organized](#DataBlob:-Keeping-your-training-dataset-organized)\n",
    "#### 2. [**ModelTemplate**: Parameterizing your model creation](#ModelTemplate:-Parameterizing-your-model-creation)\n",
    "#### 3. [**Model**: Combine your ModelTemplate with your DataBlob](#Model:Combine-your-ModelTemplate-with-your-DataBlob)\n",
    "#### 4. [**TrainStore**: Save and query your training metrics in a database](#TrainStore:-Save-and-query-your-machine-learning-metrics-in-a-database)\n",
    "\n",
    "---"
   ]
  },
  {
   "cell_type": "markdown",
   "id": "0115bdfc",
   "metadata": {},
   "source": [
    "### `DataBlob`: Keeping your training dataset organized\n",
    "\n",
    "The first step to training machine learning models with ScalarStop is to encase your dataset into a `DataBlob`.\n",
    "\n",
    "A `DataBlob` is a set of three `tf.data.Dataset` pipelines--representing your training, validation, and test sets.\n",
    "\n",
    "When you create a `DataBlob`, variables that affect the creation of the `tf.data.Dataset` pipeline are are stored in a nested Python dataclass named `Hyperparams`. Only store simple JSON-serializable types in the `Hyperparams` dataclass.\n",
    "\n",
    "Creating a new `DataBlob` with `Hyperparams` looks roughly like this:\n",
    "\n",
    "```python\n",
    "from typing import List, Dict\n",
    "import scalarstop as sp\n",
    "\n",
    "class my_datablob_group_name(sp.DataBlob):\n",
    "    @sp.dataclass\n",
    "    class Hyperparams(sp.HyperparamsType):\n",
    "        a: int\n",
    "        b: str\n",
    "        c: Dict[str, float]\n",
    "        d = List[int]\n",
    "\n",
    "    # ... more setup below ...\n",
    "```\n",
    "\n",
    "Then, we define three methods on our `DataBlob` subclass:\n",
    " - `set_training()`\n",
    " - `set_validation()`\n",
    " - `set_test()`\n",
    "\n",
    "Each one of them has to create a *new* instance of a `tf.data.Dataset` pipeline with data samples and labels zipped together. Typically that looks like:\n",
    "\n",
    "```python\n",
    "# Create a tf.data.Dataset for your training samples.\n",
    "samples = tf.data.Dataset.from_tensor_slices([1,2,3])\n",
    "\n",
    "# And another tf.data.Dataset for your training labels.\n",
    "labels = tf.data.Dataset.from_tensor_slices([0, 1, 0])\n",
    "\n",
    "# And zip them together.\n",
    "tf.data.Dataset.zip((samples, labels))\n",
    "```\n",
    "\n",
    "Do not apply any batching at this stage. We will do that later.\n",
    "\n",
    "Now we'll create a `DataBlob` that contains the Fashion MNIST dataset."
   ]
  },
  {
   "cell_type": "code",
   "execution_count": 2,
   "id": "1bac35c4",
   "metadata": {},
   "outputs": [],
   "source": [
    "class fashion_mnist_v1(sp.DataBlob):\n",
    "\n",
    "    @sp.dataclass\n",
    "    class Hyperparams(sp.HyperparamsType):\n",
    "        num_training_samples: int\n",
    "    \n",
    "    def __init__(self, hyperparams):\n",
    "        if hyperparams[\"num_training_samples\"] > 50_000:\n",
    "            raise ValueError(\"num_training_samples should be <= 50_000\")\n",
    "        super().__init__(hyperparams=hyperparams)\n",
    "        (self._train_images, self._train_labels), (self._test_images, self._test_labels) = tf.keras.datasets.fashion_mnist.load_data()\n",
    "\n",
    "    def set_training(self) -> tf.data.Dataset:\n",
    "        samples = tf.data.Dataset.from_tensor_slices(\n",
    "            self._train_images[:self.hyperparams.num_training_samples]\n",
    "        )\n",
    "        labels = tf.data.Dataset.from_tensor_slices(\n",
    "            self._train_labels[:self.hyperparams.num_training_samples]\n",
    "        )\n",
    "        return tf.data.Dataset.zip((samples, labels))\n",
    "\n",
    "    def set_validation(self) -> tf.data.Dataset:\n",
    "        samples = tf.data.Dataset.from_tensor_slices(\n",
    "            self._train_images[50_000:]\n",
    "        )\n",
    "        labels = tf.data.Dataset.from_tensor_slices(\n",
    "            self._train_labels[50_000:]\n",
    "        )\n",
    "        return tf.data.Dataset.zip((samples, labels))\n",
    "\n",
    "    def set_test(self) -> tf.data.Dataset:\n",
    "        samples_tf = tf.data.Dataset.from_tensor_slices(\n",
    "            self._test_images[50_000:]\n",
    "        )\n",
    "        labels_tf = tf.data.Dataset.from_tensor_slices(\n",
    "            self._test_labels[50_000:]\n",
    "        )\n",
    "        return tf.data.Dataset.zip((samples, labels))"
   ]
  },
  {
   "cell_type": "markdown",
   "id": "f4ba2748",
   "metadata": {},
   "source": [
    "Here we create a `DataBlob` instance with a dictionary to set our `Hyperparams`.\n",
    "\n",
    "The `DataBlob` name is computed by hashing your `DataBlob` subclass class name and the names and values of your `Hyperparams`."
   ]
  },
  {
   "cell_type": "code",
   "execution_count": 3,
   "id": "955ea3f2",
   "metadata": {},
   "outputs": [
    {
     "data": {
      "text/plain": [
       "'fashion_mnist_v1-p166sf7xz19hg8n3mj8f93m8'"
      ]
     },
     "execution_count": 3,
     "metadata": {},
     "output_type": "execute_result"
    }
   ],
   "source": [
    "datablob1 = fashion_mnist_v1(hyperparams=dict(num_training_samples=10))\n",
    "datablob1.name"
   ]
  },
  {
   "cell_type": "markdown",
   "id": "110659ea",
   "metadata": {},
   "source": [
    "The `DataBlob` group name is by default the `DataBlob` subclass name."
   ]
  },
  {
   "cell_type": "code",
   "execution_count": 4,
   "id": "da979998",
   "metadata": {},
   "outputs": [
    {
     "data": {
      "text/plain": [
       "'fashion_mnist_v1'"
      ]
     },
     "execution_count": 4,
     "metadata": {},
     "output_type": "execute_result"
    }
   ],
   "source": [
    "datablob1.group_name"
   ]
  },
  {
   "cell_type": "code",
   "execution_count": 5,
   "id": "31af591d",
   "metadata": {},
   "outputs": [
    {
     "name": "stdout",
     "output_type": "stream",
     "text": [
      "fashion_mnist_v1.Hyperparams(num_training_samples=10)\n"
     ]
    }
   ],
   "source": [
    "print(datablob1.hyperparams)"
   ]
  },
  {
   "cell_type": "markdown",
   "id": "4ab3bcdc",
   "metadata": {},
   "source": [
    "Now we create another `DataBlob` instance with a different value for `Hyperparams`.\n",
    "\n",
    "Note that it has a different automatically-generated `name`, but it'll have the same `group_name`."
   ]
  },
  {
   "cell_type": "code",
   "execution_count": 6,
   "id": "8fe46f3b",
   "metadata": {},
   "outputs": [
    {
     "data": {
      "text/plain": [
       "('fashion_mnist_v1-3wzktz1cmz86vs1r7rbmdoza', 'fashion_mnist_v1')"
      ]
     },
     "execution_count": 6,
     "metadata": {},
     "output_type": "execute_result"
    }
   ],
   "source": [
    "datablob2 = fashion_mnist_v1(hyperparams=dict(num_training_samples=50))\n",
    "datablob2.name, datablob2.group_name"
   ]
  },
  {
   "cell_type": "markdown",
   "id": "349fac30",
   "metadata": {},
   "source": [
    "### `ModelTemplate`: Parameterizing your model creation\n",
    "\n",
    "The `ModelTemplate` is the same concept as the `DataBlob`, but instead of three `tf.data.Dataset` s, the `ModelTemplate` creates a machine learning framework model object.\n",
    "\n",
    "Here is an example of creating a Keras model. Building and compiling the model is parameterized by values in the `Hyperparams` dataclass."
   ]
  },
  {
   "cell_type": "code",
   "execution_count": 7,
   "id": "7601a6f6",
   "metadata": {},
   "outputs": [],
   "source": [
    "class small_dense_10_way_classifier_v1(sp.ModelTemplate):\n",
    "\n",
    "    @sp.dataclass\n",
    "    class Hyperparams(sp.HyperparamsType):\n",
    "        hidden_units: int\n",
    "        optimizer: str = \"adam\"\n",
    "\n",
    "    def new_model(self):\n",
    "        model = tf.keras.Sequential(\n",
    "            layers=[\n",
    "                tf.keras.layers.Flatten(input_shape=(28, 28)),\n",
    "                tf.keras.layers.Dense(self.hyperparams.hidden_units, activation='relu'),\n",
    "                tf.keras.layers.Dense(10)\n",
    "            ],\n",
    "            name=self.name,\n",
    "        )\n",
    "        model.compile(\n",
    "            optimizer=self.hyperparams.optimizer,\n",
    "            loss=tf.keras.losses.SparseCategoricalCrossentropy(from_logits=True),\n",
    "            metrics=['accuracy'],\n",
    "        )\n",
    "        return model"
   ]
  },
  {
   "cell_type": "markdown",
   "id": "9bd7a5c6",
   "metadata": {},
   "source": [
    "Once again, the `ModelTemplate` has a unique name generated by hashing your subclass and the `Hyperparams`."
   ]
  },
  {
   "cell_type": "code",
   "execution_count": 8,
   "id": "ea0f43a0",
   "metadata": {},
   "outputs": [
    {
     "data": {
      "text/plain": [
       "'small_dense_10_way_classifier_v1-uptyfbjofo7rqv8antxrwhjs'"
      ]
     },
     "execution_count": 8,
     "metadata": {},
     "output_type": "execute_result"
    }
   ],
   "source": [
    "model_template = small_dense_10_way_classifier_v1(hyperparams=dict(hidden_units=3))\n",
    "model_template.name"
   ]
  },
  {
   "cell_type": "markdown",
   "id": "27a64d62",
   "metadata": {},
   "source": [
    "### `Model`:Combine your `ModelTemplate` with your `DataBlob`\n",
    "\n",
    "`DataBlob`s and `ModelTemplate`s are not very useful until you bring them together with a `Model`.\n",
    "\n",
    "A `Model` is an object created by pairing together a `ModelTemplate` instance and a `DataBlob` instance, for the purpose of training the machine learning model created by the `ModelTemplate` on the `DataBlob`'s training and validation sets.\n",
    "\n",
    "Make sure to batch your `DataBlob` before using it."
   ]
  },
  {
   "cell_type": "code",
   "execution_count": 13,
   "id": "9807ba16",
   "metadata": {},
   "outputs": [],
   "source": [
    "datablob = datablob2.batch(2)\n",
    "\n",
    "model = sp.KerasModel.from_model_template(datablob=datablob, model_template=model_template)"
   ]
  },
  {
   "cell_type": "markdown",
   "id": "c8569586",
   "metadata": {},
   "source": [
    "Once again, the `Model` has a unique name. But this time it is just a concatenation of the `DataBlob` and `ModelTemplate` names."
   ]
  },
  {
   "cell_type": "code",
   "execution_count": 14,
   "id": "b9083401",
   "metadata": {},
   "outputs": [
    {
     "data": {
      "text/plain": [
       "'mt_small_dense_10_way_classifier_v1-uptyfbjofo7rqv8antxrwhjs__d_fashion_mnist_v1-3wzktz1cmz86vs1r7rbmdoza'"
      ]
     },
     "execution_count": 14,
     "metadata": {},
     "output_type": "execute_result"
    }
   ],
   "source": [
    "model.name"
   ]
  },
  {
   "cell_type": "code",
   "execution_count": 18,
   "id": "41b55701",
   "metadata": {},
   "outputs": [
    {
     "data": {
      "text/plain": [
       "{'loss': [31.747987747192383, 2.2752344608306885],\n",
       " 'accuracy': [0.05999999865889549, 0.1599999964237213],\n",
       " 'val_loss': [2.746401786804199, 2.496387481689453],\n",
       " 'val_accuracy': [0.10040000081062317, 0.10209999978542328]}"
      ]
     },
     "execution_count": 18,
     "metadata": {},
     "output_type": "execute_result"
    }
   ],
   "source": [
    "model.fit(final_epoch=2, verbose=1)"
   ]
  },
  {
   "cell_type": "markdown",
   "id": "d02d55f6",
   "metadata": {},
   "source": [
    "In ScalarStop, training a machine learning model is an idempotent operation. Instead of saying, \"Train for $n$ **more** epochs,\" we say, \"Train until the model has been trained for $n$ epochs **total**.\"\n",
    "\n",
    "If we call `model.fit()` again with `final_epoch()` still at 2, we get the same metrics but no training happened."
   ]
  },
  {
   "cell_type": "code",
   "execution_count": 19,
   "id": "9c2e5e81",
   "metadata": {},
   "outputs": [
    {
     "data": {
      "text/plain": [
       "{'loss': [31.747987747192383, 2.2752344608306885],\n",
       " 'accuracy': [0.05999999865889549, 0.1599999964237213],\n",
       " 'val_loss': [2.746401786804199, 2.496387481689453],\n",
       " 'val_accuracy': [0.10040000081062317, 0.10209999978542328]}"
      ]
     },
     "execution_count": 19,
     "metadata": {},
     "output_type": "execute_result"
    }
   ],
   "source": [
    "model.fit(final_epoch=2, verbose=1)"
   ]
  },
  {
   "cell_type": "markdown",
   "id": "b9418eed",
   "metadata": {},
   "source": [
    "Training ScalarStop `Model`s are idempotent because they keep track of how many epochs they have been trained for and the generated training metrics (e.g. loss, accuracy, etc.). This information is saved to the filesystem if you call `model.save()` and is loaded back from disk if you create a new `Model` object with `Model.from_filesystem_or_model_template()`."
   ]
  },
  {
   "cell_type": "code",
   "execution_count": 32,
   "id": "0d8c59f5",
   "metadata": {},
   "outputs": [
    {
     "name": "stdout",
     "output_type": "stream",
     "text": [
      "INFO:tensorflow:Assets written to: models_directory/mt_small_dense_10_way_classifier_v1-uptyfbjofo7rqv8antxrwhjs__d_fashion_mnist_v1-3wzktz1cmz86vs1r7rbmdoza/assets\n"
     ]
    },
    {
     "data": {
      "text/plain": [
       "['mt_small_dense_10_way_classifier_v1-uptyfbjofo7rqv8antxrwhjs__d_fashion_mnist_v1-3wzktz1cmz86vs1r7rbmdoza']"
      ]
     },
     "execution_count": 32,
     "metadata": {},
     "output_type": "execute_result"
    }
   ],
   "source": [
    "os.makedirs(\"models_directory\", exist_ok=True)\n",
    "\n",
    "model.save(\"models_directory\")\n",
    "\n",
    "os.listdir(\"models_directory\")"
   ]
  },
  {
   "cell_type": "code",
   "execution_count": 41,
   "id": "ff92bf19",
   "metadata": {},
   "outputs": [
    {
     "name": "stdout",
     "output_type": "stream",
     "text": [
      "mt_small_dense_10_way_classifier_v1-uptyfbjofo7rqv8antxrwhjs__d_fashion_mnist_v1-3wzktz1cmz86vs1r7rbmdoza\n"
     ]
    },
    {
     "data": {
      "text/plain": [
       "{'accuracy': [0.05999999865889549, 0.1599999964237213],\n",
       " 'loss': [31.747987747192383, 2.2752344608306885],\n",
       " 'val_accuracy': [0.10040000081062317, 0.10209999978542328],\n",
       " 'val_loss': [2.746401786804199, 2.496387481689453]}"
      ]
     },
     "execution_count": 41,
     "metadata": {},
     "output_type": "execute_result"
    }
   ],
   "source": [
    "model2 = sp.KerasModel.from_filesystem(datablob=datablob, model_template=model_template, models_directory=\"models_directory\")\n",
    "print(model2.name)\n",
    "model2.history"
   ]
  },
  {
   "cell_type": "markdown",
   "id": "2a08e1c1",
   "metadata": {},
   "source": [
    "If you provide `models_directory` as an argument to `fit()`, ScalarStop will save the model to the filesystem after every epoch."
   ]
  },
  {
   "cell_type": "code",
   "execution_count": 44,
   "id": "2042289a",
   "metadata": {},
   "outputs": [
    {
     "name": "stdout",
     "output_type": "stream",
     "text": [
      "Epoch 3/5\n",
      "25/25 [==============================] - 2s 75ms/step - loss: 2.2661 - accuracy: 0.1600 - val_loss: 4.5075 - val_accuracy: 0.0799\n",
      "INFO:tensorflow:Assets written to: models_directory/mt_small_dense_10_way_classifier_v1-uptyfbjofo7rqv8antxrwhjs__d_fashion_mnist_v1-3wzktz1cmz86vs1r7rbmdoza/assets\n",
      "Epoch 4/5\n",
      "25/25 [==============================] - 2s 74ms/step - loss: 3.1692 - accuracy: 0.1200 - val_loss: 2.3435 - val_accuracy: 0.1027\n",
      "INFO:tensorflow:Assets written to: models_directory/mt_small_dense_10_way_classifier_v1-uptyfbjofo7rqv8antxrwhjs__d_fashion_mnist_v1-3wzktz1cmz86vs1r7rbmdoza/assets\n",
      "Epoch 5/5\n",
      "25/25 [==============================] - 2s 76ms/step - loss: 2.2974 - accuracy: 0.1600 - val_loss: 2.3326 - val_accuracy: 0.1028\n",
      "INFO:tensorflow:Assets written to: models_directory/mt_small_dense_10_way_classifier_v1-uptyfbjofo7rqv8antxrwhjs__d_fashion_mnist_v1-3wzktz1cmz86vs1r7rbmdoza/assets\n"
     ]
    },
    {
     "data": {
      "text/plain": [
       "{'accuracy': [0.05999999865889549,\n",
       "  0.1599999964237213,\n",
       "  0.1599999964237213,\n",
       "  0.11999999731779099,\n",
       "  0.1599999964237213],\n",
       " 'loss': [31.747987747192383,\n",
       "  2.2752344608306885,\n",
       "  2.266085386276245,\n",
       "  3.1691651344299316,\n",
       "  2.297423839569092],\n",
       " 'val_accuracy': [0.10040000081062317,\n",
       "  0.10209999978542328,\n",
       "  0.07989999651908875,\n",
       "  0.10270000249147415,\n",
       "  0.10279999673366547],\n",
       " 'val_loss': [2.746401786804199,\n",
       "  2.496387481689453,\n",
       "  4.507536888122559,\n",
       "  2.34350848197937,\n",
       "  2.3325793743133545]}"
      ]
     },
     "execution_count": 44,
     "metadata": {},
     "output_type": "execute_result"
    }
   ],
   "source": [
    "model2.fit(final_epoch=5, verbose=1, models_directory=\"models_directory\")"
   ]
  },
  {
   "cell_type": "markdown",
   "id": "9c01832e",
   "metadata": {},
   "source": [
    "Once again, ScalarStop saves the model's trainining history alongside the model's weights, but this is not very convenient if you want to do large-scale analysis on the training metrics of many models at once.\n",
    "\n",
    "A better way of storing the training metrics is to use the `TrainStore`."
   ]
  },
  {
   "cell_type": "markdown",
   "id": "7cc415a8",
   "metadata": {},
   "source": [
    "### `TrainStore`: Save and query your machine learning metrics in a database"
   ]
  },
  {
   "cell_type": "code",
   "execution_count": 48,
   "id": "c2f519c8",
   "metadata": {},
   "outputs": [
    {
     "data": {
      "text/plain": [
       "<sp.TrainStore sqlite:///train_store.sqlite3>"
      ]
     },
     "execution_count": 48,
     "metadata": {},
     "output_type": "execute_result"
    }
   ],
   "source": [
    "train_store = sp.TrainStore.from_filesystem(filename=\"train_store.sqlite3\")\n",
    "train_store"
   ]
  },
  {
   "cell_type": "markdown",
   "id": "1e54a1b9",
   "metadata": {},
   "source": [
    "The `TrainStore` is also available as a Python context manager.\n",
    "\n",
    "```python\n",
    "with sp.TrainStore.from_filesystem(filename=\"train_store.sqlite3\") as train_store:\n",
    "    # use the TrainStore here\n",
    "\n",
    "# here the TrainStore database connection is automatically closed for you.\n",
    "```\n",
    "\n",
    "We don't use it that way in this example because we want to use the TrainStore across multiple Jupyter notebook cells."
   ]
  },
  {
   "cell_type": "markdown",
   "id": "d0953c9b",
   "metadata": {},
   "source": [
    "The `TrainStore` will automatically save your `DataBlob` and `ModelTemplate` name, group name, and hyperparameters to the database. And when you train a `Model`, the `TrainStore` will persist the model name and the epoch training metrics.\n",
    "\n",
    "All of this happens automatically if you pass the `TrainStore` instance to `Model.fit()`."
   ]
  },
  {
   "cell_type": "code",
   "execution_count": null,
   "id": "2e9a093d",
   "metadata": {},
   "outputs": [],
   "source": [
    "_ = model.fit(final_epoch=5, train_store=train_store)"
   ]
  },
  {
   "cell_type": "markdown",
   "id": "60f76eab",
   "metadata": {},
   "source": [
    "Once you have some information in the `TrainStore`, you can query it for information and receive results as a Pandas `DataFrame`."
   ]
  },
  {
   "cell_type": "code",
   "execution_count": 50,
   "id": "2afac767",
   "metadata": {},
   "outputs": [
    {
     "data": {
      "text/html": [
       "<div>\n",
       "<style scoped>\n",
       "    .dataframe tbody tr th:only-of-type {\n",
       "        vertical-align: middle;\n",
       "    }\n",
       "\n",
       "    .dataframe tbody tr th {\n",
       "        vertical-align: top;\n",
       "    }\n",
       "\n",
       "    .dataframe thead th {\n",
       "        text-align: right;\n",
       "    }\n",
       "</style>\n",
       "<table border=\"1\" class=\"dataframe\">\n",
       "  <thead>\n",
       "    <tr style=\"text-align: right;\">\n",
       "      <th></th>\n",
       "      <th>name</th>\n",
       "      <th>group_name</th>\n",
       "      <th>hyperparams</th>\n",
       "      <th>last_modified</th>\n",
       "    </tr>\n",
       "  </thead>\n",
       "  <tbody>\n",
       "    <tr>\n",
       "      <th>0</th>\n",
       "      <td>fashion_mnist_v1-p166sf7xz19hg8n3mj8f93m8</td>\n",
       "      <td>fashion_mnist_v1</td>\n",
       "      <td>{'num_training_samples': 10}</td>\n",
       "      <td>2021-04-06 06:33:18.879441</td>\n",
       "    </tr>\n",
       "  </tbody>\n",
       "</table>\n",
       "</div>"
      ],
      "text/plain": [
       "                                        name        group_name  \\\n",
       "0  fashion_mnist_v1-p166sf7xz19hg8n3mj8f93m8  fashion_mnist_v1   \n",
       "\n",
       "                    hyperparams              last_modified  \n",
       "0  {'num_training_samples': 10} 2021-04-06 06:33:18.879441  "
      ]
     },
     "execution_count": 50,
     "metadata": {},
     "output_type": "execute_result"
    }
   ],
   "source": [
    "train_store.list_datablobs()"
   ]
  },
  {
   "cell_type": "code",
   "execution_count": 51,
   "id": "5b9c4db2",
   "metadata": {},
   "outputs": [
    {
     "data": {
      "text/html": [
       "<div>\n",
       "<style scoped>\n",
       "    .dataframe tbody tr th:only-of-type {\n",
       "        vertical-align: middle;\n",
       "    }\n",
       "\n",
       "    .dataframe tbody tr th {\n",
       "        vertical-align: top;\n",
       "    }\n",
       "\n",
       "    .dataframe thead th {\n",
       "        text-align: right;\n",
       "    }\n",
       "</style>\n",
       "<table border=\"1\" class=\"dataframe\">\n",
       "  <thead>\n",
       "    <tr style=\"text-align: right;\">\n",
       "      <th></th>\n",
       "      <th>name</th>\n",
       "      <th>group_name</th>\n",
       "      <th>hyperparams</th>\n",
       "      <th>last_modified</th>\n",
       "    </tr>\n",
       "  </thead>\n",
       "  <tbody>\n",
       "    <tr>\n",
       "      <th>0</th>\n",
       "      <td>small_dense_10_way_classifier_v1-uptyfbjofo7rq...</td>\n",
       "      <td>small_dense_10_way_classifier_v1</td>\n",
       "      <td>{'hidden_units': 3, 'optimizer': 'adam'}</td>\n",
       "      <td>2021-04-06 06:33:18.881517</td>\n",
       "    </tr>\n",
       "    <tr>\n",
       "      <th>1</th>\n",
       "      <td>small_dense_10_way_classifier_v1-axos7t2rckz8u...</td>\n",
       "      <td>small_dense_10_way_classifier_v1</td>\n",
       "      <td>{'hidden_units': 5, 'optimizer': 'adam'}</td>\n",
       "      <td>2021-04-06 08:14:13.075815</td>\n",
       "    </tr>\n",
       "  </tbody>\n",
       "</table>\n",
       "</div>"
      ],
      "text/plain": [
       "                                                name  \\\n",
       "0  small_dense_10_way_classifier_v1-uptyfbjofo7rq...   \n",
       "1  small_dense_10_way_classifier_v1-axos7t2rckz8u...   \n",
       "\n",
       "                         group_name                               hyperparams  \\\n",
       "0  small_dense_10_way_classifier_v1  {'hidden_units': 3, 'optimizer': 'adam'}   \n",
       "1  small_dense_10_way_classifier_v1  {'hidden_units': 5, 'optimizer': 'adam'}   \n",
       "\n",
       "               last_modified  \n",
       "0 2021-04-06 06:33:18.881517  \n",
       "1 2021-04-06 08:14:13.075815  "
      ]
     },
     "execution_count": 51,
     "metadata": {},
     "output_type": "execute_result"
    }
   ],
   "source": [
    "train_store.list_model_templates()"
   ]
  },
  {
   "cell_type": "code",
   "execution_count": 52,
   "id": "6458c5c8",
   "metadata": {},
   "outputs": [
    {
     "data": {
      "text/html": [
       "<div>\n",
       "<style scoped>\n",
       "    .dataframe tbody tr th:only-of-type {\n",
       "        vertical-align: middle;\n",
       "    }\n",
       "\n",
       "    .dataframe tbody tr th {\n",
       "        vertical-align: top;\n",
       "    }\n",
       "\n",
       "    .dataframe thead th {\n",
       "        text-align: right;\n",
       "    }\n",
       "</style>\n",
       "<table border=\"1\" class=\"dataframe\">\n",
       "  <thead>\n",
       "    <tr style=\"text-align: right;\">\n",
       "      <th></th>\n",
       "      <th>model_name</th>\n",
       "      <th>model_class_name</th>\n",
       "      <th>model_last_modified</th>\n",
       "      <th>datablob_name</th>\n",
       "      <th>datablob_group_name</th>\n",
       "      <th>model_template_name</th>\n",
       "      <th>model_template_group_name</th>\n",
       "      <th>dbh__num_training_samples</th>\n",
       "      <th>mth__hidden_units</th>\n",
       "      <th>mth__optimizer</th>\n",
       "    </tr>\n",
       "  </thead>\n",
       "  <tbody>\n",
       "    <tr>\n",
       "      <th>0</th>\n",
       "      <td>mt_small_dense_10_way_classifier_v1-uptyfbjofo...</td>\n",
       "      <td>KerasModel</td>\n",
       "      <td>2021-04-06 06:33:18.882921</td>\n",
       "      <td>fashion_mnist_v1-p166sf7xz19hg8n3mj8f93m8</td>\n",
       "      <td>fashion_mnist_v1</td>\n",
       "      <td>small_dense_10_way_classifier_v1-uptyfbjofo7rq...</td>\n",
       "      <td>small_dense_10_way_classifier_v1</td>\n",
       "      <td>10</td>\n",
       "      <td>3</td>\n",
       "      <td>adam</td>\n",
       "    </tr>\n",
       "    <tr>\n",
       "      <th>1</th>\n",
       "      <td>mt_small_dense_10_way_classifier_v1-axos7t2rck...</td>\n",
       "      <td>KerasModel</td>\n",
       "      <td>2021-04-06 08:14:13.076999</td>\n",
       "      <td>fashion_mnist_v1-p166sf7xz19hg8n3mj8f93m8</td>\n",
       "      <td>fashion_mnist_v1</td>\n",
       "      <td>small_dense_10_way_classifier_v1-axos7t2rckz8u...</td>\n",
       "      <td>small_dense_10_way_classifier_v1</td>\n",
       "      <td>10</td>\n",
       "      <td>5</td>\n",
       "      <td>adam</td>\n",
       "    </tr>\n",
       "  </tbody>\n",
       "</table>\n",
       "</div>"
      ],
      "text/plain": [
       "                                          model_name model_class_name  \\\n",
       "0  mt_small_dense_10_way_classifier_v1-uptyfbjofo...       KerasModel   \n",
       "1  mt_small_dense_10_way_classifier_v1-axos7t2rck...       KerasModel   \n",
       "\n",
       "         model_last_modified                              datablob_name  \\\n",
       "0 2021-04-06 06:33:18.882921  fashion_mnist_v1-p166sf7xz19hg8n3mj8f93m8   \n",
       "1 2021-04-06 08:14:13.076999  fashion_mnist_v1-p166sf7xz19hg8n3mj8f93m8   \n",
       "\n",
       "  datablob_group_name                                model_template_name  \\\n",
       "0    fashion_mnist_v1  small_dense_10_way_classifier_v1-uptyfbjofo7rq...   \n",
       "1    fashion_mnist_v1  small_dense_10_way_classifier_v1-axos7t2rckz8u...   \n",
       "\n",
       "          model_template_group_name  dbh__num_training_samples  \\\n",
       "0  small_dense_10_way_classifier_v1                         10   \n",
       "1  small_dense_10_way_classifier_v1                         10   \n",
       "\n",
       "   mth__hidden_units mth__optimizer  \n",
       "0                  3           adam  \n",
       "1                  5           adam  "
      ]
     },
     "execution_count": 52,
     "metadata": {},
     "output_type": "execute_result"
    }
   ],
   "source": [
    "train_store.list_models()"
   ]
  },
  {
   "cell_type": "code",
   "execution_count": 53,
   "id": "407400d0",
   "metadata": {},
   "outputs": [
    {
     "data": {
      "text/html": [
       "<div>\n",
       "<style scoped>\n",
       "    .dataframe tbody tr th:only-of-type {\n",
       "        vertical-align: middle;\n",
       "    }\n",
       "\n",
       "    .dataframe tbody tr th {\n",
       "        vertical-align: top;\n",
       "    }\n",
       "\n",
       "    .dataframe thead th {\n",
       "        text-align: right;\n",
       "    }\n",
       "</style>\n",
       "<table border=\"1\" class=\"dataframe\">\n",
       "  <thead>\n",
       "    <tr style=\"text-align: right;\">\n",
       "      <th></th>\n",
       "      <th>epoch_num</th>\n",
       "      <th>model_name</th>\n",
       "      <th>last_modified</th>\n",
       "      <th>metric__loss</th>\n",
       "      <th>metric__accuracy</th>\n",
       "      <th>metric__val_loss</th>\n",
       "      <th>metric__val_accuracy</th>\n",
       "    </tr>\n",
       "  </thead>\n",
       "  <tbody>\n",
       "    <tr>\n",
       "      <th>0</th>\n",
       "      <td>3</td>\n",
       "      <td>mt_small_dense_10_way_classifier_v1-uptyfbjofo...</td>\n",
       "      <td>2021-04-07 02:12:30.542895</td>\n",
       "      <td>2.298032</td>\n",
       "      <td>0.3</td>\n",
       "      <td>8.293548</td>\n",
       "      <td>0.1004</td>\n",
       "    </tr>\n",
       "    <tr>\n",
       "      <th>1</th>\n",
       "      <td>4</td>\n",
       "      <td>mt_small_dense_10_way_classifier_v1-uptyfbjofo...</td>\n",
       "      <td>2021-04-06 06:33:20.717740</td>\n",
       "      <td>2.087794</td>\n",
       "      <td>0.3</td>\n",
       "      <td>2.880026</td>\n",
       "      <td>0.1070</td>\n",
       "    </tr>\n",
       "    <tr>\n",
       "      <th>2</th>\n",
       "      <td>5</td>\n",
       "      <td>mt_small_dense_10_way_classifier_v1-uptyfbjofo...</td>\n",
       "      <td>2021-04-06 06:33:22.474861</td>\n",
       "      <td>2.083469</td>\n",
       "      <td>0.3</td>\n",
       "      <td>2.841355</td>\n",
       "      <td>0.1069</td>\n",
       "    </tr>\n",
       "    <tr>\n",
       "      <th>3</th>\n",
       "      <td>6</td>\n",
       "      <td>mt_small_dense_10_way_classifier_v1-axos7t2rck...</td>\n",
       "      <td>2021-04-06 08:14:14.833201</td>\n",
       "      <td>1.903548</td>\n",
       "      <td>0.4</td>\n",
       "      <td>5.097595</td>\n",
       "      <td>0.1029</td>\n",
       "    </tr>\n",
       "    <tr>\n",
       "      <th>4</th>\n",
       "      <td>7</td>\n",
       "      <td>mt_small_dense_10_way_classifier_v1-axos7t2rck...</td>\n",
       "      <td>2021-04-06 08:14:16.569196</td>\n",
       "      <td>2.096510</td>\n",
       "      <td>0.3</td>\n",
       "      <td>4.430079</td>\n",
       "      <td>0.1022</td>\n",
       "    </tr>\n",
       "    <tr>\n",
       "      <th>5</th>\n",
       "      <td>8</td>\n",
       "      <td>mt_small_dense_10_way_classifier_v1-axos7t2rck...</td>\n",
       "      <td>2021-04-06 08:14:18.277378</td>\n",
       "      <td>2.102654</td>\n",
       "      <td>0.3</td>\n",
       "      <td>4.137888</td>\n",
       "      <td>0.1022</td>\n",
       "    </tr>\n",
       "    <tr>\n",
       "      <th>6</th>\n",
       "      <td>9</td>\n",
       "      <td>mt_small_dense_10_way_classifier_v1-axos7t2rck...</td>\n",
       "      <td>2021-04-06 08:14:20.003647</td>\n",
       "      <td>2.107021</td>\n",
       "      <td>0.3</td>\n",
       "      <td>4.004270</td>\n",
       "      <td>0.1022</td>\n",
       "    </tr>\n",
       "    <tr>\n",
       "      <th>7</th>\n",
       "      <td>10</td>\n",
       "      <td>mt_small_dense_10_way_classifier_v1-axos7t2rck...</td>\n",
       "      <td>2021-04-06 08:14:21.713084</td>\n",
       "      <td>2.108780</td>\n",
       "      <td>0.3</td>\n",
       "      <td>3.952462</td>\n",
       "      <td>0.1022</td>\n",
       "    </tr>\n",
       "  </tbody>\n",
       "</table>\n",
       "</div>"
      ],
      "text/plain": [
       "   epoch_num                                         model_name  \\\n",
       "0          3  mt_small_dense_10_way_classifier_v1-uptyfbjofo...   \n",
       "1          4  mt_small_dense_10_way_classifier_v1-uptyfbjofo...   \n",
       "2          5  mt_small_dense_10_way_classifier_v1-uptyfbjofo...   \n",
       "3          6  mt_small_dense_10_way_classifier_v1-axos7t2rck...   \n",
       "4          7  mt_small_dense_10_way_classifier_v1-axos7t2rck...   \n",
       "5          8  mt_small_dense_10_way_classifier_v1-axos7t2rck...   \n",
       "6          9  mt_small_dense_10_way_classifier_v1-axos7t2rck...   \n",
       "7         10  mt_small_dense_10_way_classifier_v1-axos7t2rck...   \n",
       "\n",
       "               last_modified  metric__loss  metric__accuracy  \\\n",
       "0 2021-04-07 02:12:30.542895      2.298032               0.3   \n",
       "1 2021-04-06 06:33:20.717740      2.087794               0.3   \n",
       "2 2021-04-06 06:33:22.474861      2.083469               0.3   \n",
       "3 2021-04-06 08:14:14.833201      1.903548               0.4   \n",
       "4 2021-04-06 08:14:16.569196      2.096510               0.3   \n",
       "5 2021-04-06 08:14:18.277378      2.102654               0.3   \n",
       "6 2021-04-06 08:14:20.003647      2.107021               0.3   \n",
       "7 2021-04-06 08:14:21.713084      2.108780               0.3   \n",
       "\n",
       "   metric__val_loss  metric__val_accuracy  \n",
       "0          8.293548                0.1004  \n",
       "1          2.880026                0.1070  \n",
       "2          2.841355                0.1069  \n",
       "3          5.097595                0.1029  \n",
       "4          4.430079                0.1022  \n",
       "5          4.137888                0.1022  \n",
       "6          4.004270                0.1022  \n",
       "7          3.952462                0.1022  "
      ]
     },
     "execution_count": 53,
     "metadata": {},
     "output_type": "execute_result"
    }
   ],
   "source": [
    "train_store.list_model_epochs()"
   ]
  },
  {
   "cell_type": "code",
   "execution_count": 54,
   "id": "f3bb326e",
   "metadata": {},
   "outputs": [],
   "source": [
    "model_template = small_dense_10_way_classifier_v1(hyperparams=dict(hidden_units=5))"
   ]
  },
  {
   "cell_type": "code",
   "execution_count": 55,
   "id": "99ae4659",
   "metadata": {},
   "outputs": [],
   "source": [
    "model = sp.KerasModel.from_model_template(datablob=datablob, model_template=model_template)"
   ]
  },
  {
   "cell_type": "code",
   "execution_count": 56,
   "id": "3f410504",
   "metadata": {},
   "outputs": [
    {
     "name": "stdout",
     "output_type": "stream",
     "text": [
      "Epoch 1/10\n",
      "25/25 [==============================] - 2s 76ms/step - loss: 33.6136 - accuracy: 0.1488 - val_loss: 3.0698 - val_accuracy: 0.1024\n",
      "Epoch 2/10\n",
      "25/25 [==============================] - 2s 80ms/step - loss: 2.3200 - accuracy: 0.2491 - val_loss: 2.4557 - val_accuracy: 0.1025\n",
      "Epoch 3/10\n",
      "25/25 [==============================] - 2s 79ms/step - loss: 2.2940 - accuracy: 0.2491 - val_loss: 2.4395 - val_accuracy: 0.1023\n",
      "Epoch 4/10\n",
      "25/25 [==============================] - 2s 76ms/step - loss: 2.2717 - accuracy: 0.2491 - val_loss: 2.4373 - val_accuracy: 0.1024\n",
      "Epoch 5/10\n",
      "25/25 [==============================] - 2s 72ms/step - loss: 2.2597 - accuracy: 0.2491 - val_loss: 2.4365 - val_accuracy: 0.1024\n",
      "Epoch 6/10\n",
      "25/25 [==============================] - 2s 70ms/step - loss: 2.2537 - accuracy: 0.2491 - val_loss: 2.4361 - val_accuracy: 0.1025\n",
      "Epoch 7/10\n",
      "25/25 [==============================] - 2s 71ms/step - loss: 2.2502 - accuracy: 0.2491 - val_loss: 2.4359 - val_accuracy: 0.1025\n",
      "Epoch 8/10\n",
      "25/25 [==============================] - 2s 72ms/step - loss: 2.2469 - accuracy: 0.2491 - val_loss: 2.4356 - val_accuracy: 0.1024\n",
      "Epoch 9/10\n",
      "25/25 [==============================] - 2s 73ms/step - loss: 2.2436 - accuracy: 0.2491 - val_loss: 2.4353 - val_accuracy: 0.1025\n",
      "Epoch 10/10\n",
      "25/25 [==============================] - 2s 78ms/step - loss: 2.2400 - accuracy: 0.2491 - val_loss: 2.4350 - val_accuracy: 0.1027\n"
     ]
    }
   ],
   "source": [
    "_ = model.fit(final_epoch=10, train_store=train_store)"
   ]
  },
  {
   "cell_type": "code",
   "execution_count": 57,
   "id": "c16c2bfb",
   "metadata": {},
   "outputs": [
    {
     "data": {
      "text/html": [
       "<div>\n",
       "<style scoped>\n",
       "    .dataframe tbody tr th:only-of-type {\n",
       "        vertical-align: middle;\n",
       "    }\n",
       "\n",
       "    .dataframe tbody tr th {\n",
       "        vertical-align: top;\n",
       "    }\n",
       "\n",
       "    .dataframe thead th {\n",
       "        text-align: right;\n",
       "    }\n",
       "</style>\n",
       "<table border=\"1\" class=\"dataframe\">\n",
       "  <thead>\n",
       "    <tr style=\"text-align: right;\">\n",
       "      <th></th>\n",
       "      <th>epoch_num</th>\n",
       "      <th>model_name</th>\n",
       "      <th>last_modified</th>\n",
       "      <th>metric__loss</th>\n",
       "      <th>metric__accuracy</th>\n",
       "      <th>metric__val_loss</th>\n",
       "      <th>metric__val_accuracy</th>\n",
       "    </tr>\n",
       "  </thead>\n",
       "  <tbody>\n",
       "    <tr>\n",
       "      <th>0</th>\n",
       "      <td>1</td>\n",
       "      <td>mt_small_dense_10_way_classifier_v1-axos7t2rck...</td>\n",
       "      <td>2021-04-07 04:37:14.280519</td>\n",
       "      <td>18.373404</td>\n",
       "      <td>0.12</td>\n",
       "      <td>3.069818</td>\n",
       "      <td>0.1024</td>\n",
       "    </tr>\n",
       "    <tr>\n",
       "      <th>1</th>\n",
       "      <td>2</td>\n",
       "      <td>mt_small_dense_10_way_classifier_v1-axos7t2rck...</td>\n",
       "      <td>2021-04-07 04:37:16.196663</td>\n",
       "      <td>2.312818</td>\n",
       "      <td>0.16</td>\n",
       "      <td>2.455680</td>\n",
       "      <td>0.1025</td>\n",
       "    </tr>\n",
       "    <tr>\n",
       "      <th>2</th>\n",
       "      <td>3</td>\n",
       "      <td>mt_small_dense_10_way_classifier_v1-axos7t2rck...</td>\n",
       "      <td>2021-04-07 04:37:18.095767</td>\n",
       "      <td>2.297386</td>\n",
       "      <td>0.16</td>\n",
       "      <td>2.439520</td>\n",
       "      <td>0.1023</td>\n",
       "    </tr>\n",
       "    <tr>\n",
       "      <th>3</th>\n",
       "      <td>3</td>\n",
       "      <td>mt_small_dense_10_way_classifier_v1-uptyfbjofo...</td>\n",
       "      <td>2021-04-07 02:12:30.542895</td>\n",
       "      <td>2.298032</td>\n",
       "      <td>0.30</td>\n",
       "      <td>8.293548</td>\n",
       "      <td>0.1004</td>\n",
       "    </tr>\n",
       "    <tr>\n",
       "      <th>4</th>\n",
       "      <td>4</td>\n",
       "      <td>mt_small_dense_10_way_classifier_v1-axos7t2rck...</td>\n",
       "      <td>2021-04-07 04:37:19.935545</td>\n",
       "      <td>2.284206</td>\n",
       "      <td>0.16</td>\n",
       "      <td>2.437326</td>\n",
       "      <td>0.1024</td>\n",
       "    </tr>\n",
       "    <tr>\n",
       "      <th>5</th>\n",
       "      <td>4</td>\n",
       "      <td>mt_small_dense_10_way_classifier_v1-uptyfbjofo...</td>\n",
       "      <td>2021-04-06 06:33:20.717740</td>\n",
       "      <td>2.087794</td>\n",
       "      <td>0.30</td>\n",
       "      <td>2.880026</td>\n",
       "      <td>0.1070</td>\n",
       "    </tr>\n",
       "    <tr>\n",
       "      <th>6</th>\n",
       "      <td>5</td>\n",
       "      <td>mt_small_dense_10_way_classifier_v1-axos7t2rck...</td>\n",
       "      <td>2021-04-07 04:37:21.664060</td>\n",
       "      <td>2.277054</td>\n",
       "      <td>0.16</td>\n",
       "      <td>2.436525</td>\n",
       "      <td>0.1024</td>\n",
       "    </tr>\n",
       "    <tr>\n",
       "      <th>7</th>\n",
       "      <td>5</td>\n",
       "      <td>mt_small_dense_10_way_classifier_v1-uptyfbjofo...</td>\n",
       "      <td>2021-04-06 06:33:22.474861</td>\n",
       "      <td>2.083469</td>\n",
       "      <td>0.30</td>\n",
       "      <td>2.841355</td>\n",
       "      <td>0.1069</td>\n",
       "    </tr>\n",
       "    <tr>\n",
       "      <th>8</th>\n",
       "      <td>6</td>\n",
       "      <td>mt_small_dense_10_way_classifier_v1-axos7t2rck...</td>\n",
       "      <td>2021-04-07 04:37:23.361795</td>\n",
       "      <td>2.273475</td>\n",
       "      <td>0.16</td>\n",
       "      <td>2.436139</td>\n",
       "      <td>0.1025</td>\n",
       "    </tr>\n",
       "    <tr>\n",
       "      <th>9</th>\n",
       "      <td>6</td>\n",
       "      <td>mt_small_dense_10_way_classifier_v1-axos7t2rck...</td>\n",
       "      <td>2021-04-06 08:14:14.833201</td>\n",
       "      <td>1.903548</td>\n",
       "      <td>0.40</td>\n",
       "      <td>5.097595</td>\n",
       "      <td>0.1029</td>\n",
       "    </tr>\n",
       "    <tr>\n",
       "      <th>10</th>\n",
       "      <td>7</td>\n",
       "      <td>mt_small_dense_10_way_classifier_v1-axos7t2rck...</td>\n",
       "      <td>2021-04-07 04:37:25.061009</td>\n",
       "      <td>2.271350</td>\n",
       "      <td>0.16</td>\n",
       "      <td>2.435877</td>\n",
       "      <td>0.1025</td>\n",
       "    </tr>\n",
       "    <tr>\n",
       "      <th>11</th>\n",
       "      <td>7</td>\n",
       "      <td>mt_small_dense_10_way_classifier_v1-axos7t2rck...</td>\n",
       "      <td>2021-04-06 08:14:16.569196</td>\n",
       "      <td>2.096510</td>\n",
       "      <td>0.30</td>\n",
       "      <td>4.430079</td>\n",
       "      <td>0.1022</td>\n",
       "    </tr>\n",
       "    <tr>\n",
       "      <th>12</th>\n",
       "      <td>8</td>\n",
       "      <td>mt_small_dense_10_way_classifier_v1-axos7t2rck...</td>\n",
       "      <td>2021-04-07 04:37:26.793561</td>\n",
       "      <td>2.269358</td>\n",
       "      <td>0.16</td>\n",
       "      <td>2.435574</td>\n",
       "      <td>0.1024</td>\n",
       "    </tr>\n",
       "    <tr>\n",
       "      <th>13</th>\n",
       "      <td>8</td>\n",
       "      <td>mt_small_dense_10_way_classifier_v1-axos7t2rck...</td>\n",
       "      <td>2021-04-06 08:14:18.277378</td>\n",
       "      <td>2.102654</td>\n",
       "      <td>0.30</td>\n",
       "      <td>4.137888</td>\n",
       "      <td>0.1022</td>\n",
       "    </tr>\n",
       "    <tr>\n",
       "      <th>14</th>\n",
       "      <td>9</td>\n",
       "      <td>mt_small_dense_10_way_classifier_v1-axos7t2rck...</td>\n",
       "      <td>2021-04-07 04:37:28.556041</td>\n",
       "      <td>2.267313</td>\n",
       "      <td>0.16</td>\n",
       "      <td>2.435308</td>\n",
       "      <td>0.1025</td>\n",
       "    </tr>\n",
       "    <tr>\n",
       "      <th>15</th>\n",
       "      <td>9</td>\n",
       "      <td>mt_small_dense_10_way_classifier_v1-axos7t2rck...</td>\n",
       "      <td>2021-04-06 08:14:20.003647</td>\n",
       "      <td>2.107021</td>\n",
       "      <td>0.30</td>\n",
       "      <td>4.004270</td>\n",
       "      <td>0.1022</td>\n",
       "    </tr>\n",
       "    <tr>\n",
       "      <th>16</th>\n",
       "      <td>10</td>\n",
       "      <td>mt_small_dense_10_way_classifier_v1-axos7t2rck...</td>\n",
       "      <td>2021-04-07 04:37:30.442675</td>\n",
       "      <td>2.265169</td>\n",
       "      <td>0.16</td>\n",
       "      <td>2.435010</td>\n",
       "      <td>0.1027</td>\n",
       "    </tr>\n",
       "    <tr>\n",
       "      <th>17</th>\n",
       "      <td>10</td>\n",
       "      <td>mt_small_dense_10_way_classifier_v1-axos7t2rck...</td>\n",
       "      <td>2021-04-06 08:14:21.713084</td>\n",
       "      <td>2.108780</td>\n",
       "      <td>0.30</td>\n",
       "      <td>3.952462</td>\n",
       "      <td>0.1022</td>\n",
       "    </tr>\n",
       "  </tbody>\n",
       "</table>\n",
       "</div>"
      ],
      "text/plain": [
       "    epoch_num                                         model_name  \\\n",
       "0           1  mt_small_dense_10_way_classifier_v1-axos7t2rck...   \n",
       "1           2  mt_small_dense_10_way_classifier_v1-axos7t2rck...   \n",
       "2           3  mt_small_dense_10_way_classifier_v1-axos7t2rck...   \n",
       "3           3  mt_small_dense_10_way_classifier_v1-uptyfbjofo...   \n",
       "4           4  mt_small_dense_10_way_classifier_v1-axos7t2rck...   \n",
       "5           4  mt_small_dense_10_way_classifier_v1-uptyfbjofo...   \n",
       "6           5  mt_small_dense_10_way_classifier_v1-axos7t2rck...   \n",
       "7           5  mt_small_dense_10_way_classifier_v1-uptyfbjofo...   \n",
       "8           6  mt_small_dense_10_way_classifier_v1-axos7t2rck...   \n",
       "9           6  mt_small_dense_10_way_classifier_v1-axos7t2rck...   \n",
       "10          7  mt_small_dense_10_way_classifier_v1-axos7t2rck...   \n",
       "11          7  mt_small_dense_10_way_classifier_v1-axos7t2rck...   \n",
       "12          8  mt_small_dense_10_way_classifier_v1-axos7t2rck...   \n",
       "13          8  mt_small_dense_10_way_classifier_v1-axos7t2rck...   \n",
       "14          9  mt_small_dense_10_way_classifier_v1-axos7t2rck...   \n",
       "15          9  mt_small_dense_10_way_classifier_v1-axos7t2rck...   \n",
       "16         10  mt_small_dense_10_way_classifier_v1-axos7t2rck...   \n",
       "17         10  mt_small_dense_10_way_classifier_v1-axos7t2rck...   \n",
       "\n",
       "                last_modified  metric__loss  metric__accuracy  \\\n",
       "0  2021-04-07 04:37:14.280519     18.373404              0.12   \n",
       "1  2021-04-07 04:37:16.196663      2.312818              0.16   \n",
       "2  2021-04-07 04:37:18.095767      2.297386              0.16   \n",
       "3  2021-04-07 02:12:30.542895      2.298032              0.30   \n",
       "4  2021-04-07 04:37:19.935545      2.284206              0.16   \n",
       "5  2021-04-06 06:33:20.717740      2.087794              0.30   \n",
       "6  2021-04-07 04:37:21.664060      2.277054              0.16   \n",
       "7  2021-04-06 06:33:22.474861      2.083469              0.30   \n",
       "8  2021-04-07 04:37:23.361795      2.273475              0.16   \n",
       "9  2021-04-06 08:14:14.833201      1.903548              0.40   \n",
       "10 2021-04-07 04:37:25.061009      2.271350              0.16   \n",
       "11 2021-04-06 08:14:16.569196      2.096510              0.30   \n",
       "12 2021-04-07 04:37:26.793561      2.269358              0.16   \n",
       "13 2021-04-06 08:14:18.277378      2.102654              0.30   \n",
       "14 2021-04-07 04:37:28.556041      2.267313              0.16   \n",
       "15 2021-04-06 08:14:20.003647      2.107021              0.30   \n",
       "16 2021-04-07 04:37:30.442675      2.265169              0.16   \n",
       "17 2021-04-06 08:14:21.713084      2.108780              0.30   \n",
       "\n",
       "    metric__val_loss  metric__val_accuracy  \n",
       "0           3.069818                0.1024  \n",
       "1           2.455680                0.1025  \n",
       "2           2.439520                0.1023  \n",
       "3           8.293548                0.1004  \n",
       "4           2.437326                0.1024  \n",
       "5           2.880026                0.1070  \n",
       "6           2.436525                0.1024  \n",
       "7           2.841355                0.1069  \n",
       "8           2.436139                0.1025  \n",
       "9           5.097595                0.1029  \n",
       "10          2.435877                0.1025  \n",
       "11          4.430079                0.1022  \n",
       "12          2.435574                0.1024  \n",
       "13          4.137888                0.1022  \n",
       "14          2.435308                0.1025  \n",
       "15          4.004270                0.1022  \n",
       "16          2.435010                0.1027  \n",
       "17          3.952462                0.1022  "
      ]
     },
     "execution_count": 57,
     "metadata": {},
     "output_type": "execute_result"
    }
   ],
   "source": [
    "train_store.list_model_epochs()"
   ]
  },
  {
   "cell_type": "code",
   "execution_count": null,
   "id": "1206caed",
   "metadata": {},
   "outputs": [],
   "source": []
  }
 ],
 "metadata": {
  "kernelspec": {
   "display_name": "Python 3",
   "language": "python",
   "name": "python3"
  },
  "language_info": {
   "codemirror_mode": {
    "name": "ipython",
    "version": 3
   },
   "file_extension": ".py",
   "mimetype": "text/x-python",
   "name": "python",
   "nbconvert_exporter": "python",
   "pygments_lexer": "ipython3",
   "version": "3.8.6"
  }
 },
 "nbformat": 4,
 "nbformat_minor": 5
}